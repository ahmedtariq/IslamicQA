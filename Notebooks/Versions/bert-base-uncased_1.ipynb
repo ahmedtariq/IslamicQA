{
  "cells": [
    {
      "cell_type": "markdown",
      "id": "98d8dc05",
      "metadata": {
        "id": "98d8dc05"
      },
      "source": [
        "# Qur'an QA Retrieval Pipeline Starter Notebook\n",
        "\n",
        "This notebook sketches out the end-to-end pipeline:\n",
        "1. Data Preparation\n",
        "2. Sparse (TF-IDF) Indexing & Retrieval\n",
        "3. Dense (Embeddings + FAISS) Indexing & Retrieval\n",
        "4. Retriever Fusion\n",
        "5. Cross-Encoder Re-Ranking\n",
        "6. No-Answer Detection\n",
        "7. Answer Selection & Formatting\n",
        "8. Evaluation & Metrics\n",
        "\n",
        "---\n"
      ]
    },
    {
      "cell_type": "code",
      "source": [
        "# !pip install numpy==1.26.4"
      ],
      "metadata": {
        "id": "tgsvY-7EetH_"
      },
      "id": "tgsvY-7EetH_",
      "execution_count": 1,
      "outputs": []
    },
    {
      "cell_type": "code",
      "source": [
        "# 1. Imports and Setup\n",
        "import os\n",
        "import pandas as pd\n",
        "import json\n",
        "from sklearn.model_selection import train_test_split"
      ],
      "metadata": {
        "id": "nVvtnP5Px0ch"
      },
      "id": "nVvtnP5Px0ch",
      "execution_count": 2,
      "outputs": []
    },
    {
      "cell_type": "code",
      "source": [
        "from sklearn.feature_extraction.text import TfidfVectorizer\n",
        "from sklearn.metrics.pairwise import cosine_similarity"
      ],
      "metadata": {
        "id": "SPMhTPwu9U88"
      },
      "id": "SPMhTPwu9U88",
      "execution_count": 3,
      "outputs": []
    },
    {
      "cell_type": "code",
      "source": [
        "# For dense retrieval\n",
        "!pip install faiss-cpu\n",
        "import faiss\n",
        "from sentence_transformers import SentenceTransformer"
      ],
      "metadata": {
        "colab": {
          "base_uri": "https://localhost:8080/"
        },
        "id": "hv41qC4syArn",
        "outputId": "0bb77ab3-4581-4c19-fbd9-df94550bee1c"
      },
      "id": "hv41qC4syArn",
      "execution_count": 4,
      "outputs": [
        {
          "output_type": "stream",
          "name": "stdout",
          "text": [
            "Requirement already satisfied: faiss-cpu in /usr/local/lib/python3.11/dist-packages (1.11.0)\n",
            "Requirement already satisfied: numpy<3.0,>=1.25.0 in /usr/local/lib/python3.11/dist-packages (from faiss-cpu) (1.26.4)\n",
            "Requirement already satisfied: packaging in /usr/local/lib/python3.11/dist-packages (from faiss-cpu) (24.2)\n"
          ]
        }
      ]
    },
    {
      "cell_type": "code",
      "execution_count": 5,
      "id": "40a9e0f1",
      "metadata": {
        "id": "40a9e0f1"
      },
      "outputs": [],
      "source": [
        "# For cross-encoder reranking\n",
        "from transformers import AutoTokenizer, AutoModelForSequenceClassification, Trainer, TrainingArguments\n",
        "\n",
        "# For evaluation\n",
        "from sklearn.metrics import precision_recall_fscore_support, roc_auc_score\n",
        "import numpy as np\n"
      ]
    },
    {
      "cell_type": "markdown",
      "source": [
        "Mount Drive"
      ],
      "metadata": {
        "id": "4ix2F9QY4w2x"
      },
      "id": "4ix2F9QY4w2x"
    },
    {
      "cell_type": "code",
      "source": [
        "from google.colab import drive\n",
        "drive.mount('/content/drive/') # Standard mount point is /content/drive"
      ],
      "metadata": {
        "colab": {
          "base_uri": "https://localhost:8080/"
        },
        "id": "a-lFEcpj401Q",
        "outputId": "3c30dc95-7f35-4bb7-f5e3-7cc2e2452e22"
      },
      "id": "a-lFEcpj401Q",
      "execution_count": 6,
      "outputs": [
        {
          "output_type": "stream",
          "name": "stdout",
          "text": [
            "Drive already mounted at /content/drive/; to attempt to forcibly remount, call drive.mount(\"/content/drive/\", force_remount=True).\n"
          ]
        }
      ]
    },
    {
      "cell_type": "markdown",
      "source": [
        "## Evaluation Functions"
      ],
      "metadata": {
        "id": "4QYYAxYfZZkj"
      },
      "id": "4QYYAxYfZZkj"
    },
    {
      "cell_type": "markdown",
      "source": [
        "Recall@K:   \n",
        "- Definition: Was the correct passage found in the top K?  \n",
        "- Good for: Checking if the retriever is “finding” the right info."
      ],
      "metadata": {
        "id": "svR2qrqKaAVN"
      },
      "id": "svR2qrqKaAVN"
    },
    {
      "cell_type": "code",
      "source": [
        "def recall_at_k(results, gold_map, k):\n",
        "    hits = []\n",
        "    for q, golds in gold_map.items():\n",
        "        topk = [id for id, sim in sorted(results[q], key=lambda x: x[1], reverse=True)]\n",
        "        hits.append(len(set(topk[:k]) & set(golds)) / len(golds))\n",
        "    return sum(hits) / len(hits)"
      ],
      "metadata": {
        "id": "VpUKpZyfEpfF"
      },
      "id": "VpUKpZyfEpfF",
      "execution_count": 7,
      "outputs": []
    },
    {
      "cell_type": "markdown",
      "source": [
        "Precision@K:   \n",
        "- Definition: Was the top K of the correct passages?  \n",
        "- Good for: Checking if the retriever is selecting correct passages."
      ],
      "metadata": {
        "id": "ySoA4IU2PP9l"
      },
      "id": "ySoA4IU2PP9l"
    },
    {
      "cell_type": "code",
      "source": [
        "def precision_at_k(results, gold_map, k):\n",
        "    \"\"\"\n",
        "    Calculates Precision@K for retrieval results.\n",
        "\n",
        "    Args:\n",
        "        results (dict): Dictionary of retrieval results, keyed by query,\n",
        "                        with values as lists of (passage_id, score) tuples.\n",
        "        gold_map (dict): Dictionary of gold standard answers, keyed by query,\n",
        "                         with values as sets of correct passage_ids.\n",
        "        k (int): The number of top retrieved passages to consider.\n",
        "\n",
        "    Returns:\n",
        "        float: The average Precision@K across all queries.\n",
        "    \"\"\"\n",
        "    precisions = []\n",
        "    for q, golds in gold_map.items():\n",
        "        # Get the top K retrieved passage IDs for the current query\n",
        "        topk = [id for id, sim in sorted(results[q], key=lambda x: x[1], reverse=True)][:k]\n",
        "\n",
        "        # Count how many of the top K retrieved passages are in the gold set\n",
        "        num_relevant_in_topk = len(set(topk) & set(golds))\n",
        "\n",
        "        # Calculate precision for the current query\n",
        "        # Avoid division by zero if k is 0 or no results are retrieved\n",
        "        if k > 0 and len(topk) > 0:\n",
        "             precision = num_relevant_in_topk / k\n",
        "        else:\n",
        "             precision = 0.0 # Precision is 0 if no passages are retrieved in the top K\n",
        "\n",
        "        precisions.append(precision)\n",
        "\n",
        "    # Calculate the average precision across all queries\n",
        "    # Avoid division by zero if gold_map is empty\n",
        "    if len(precisions) > 0:\n",
        "        return sum(precisions) / len(precisions)\n",
        "    else:\n",
        "        return 0.0 # Return 0 if there are no queries to evaluate"
      ],
      "metadata": {
        "id": "1_6GL-n1PPx4"
      },
      "id": "1_6GL-n1PPx4",
      "execution_count": 8,
      "outputs": []
    },
    {
      "cell_type": "markdown",
      "source": [
        "Mean Reciprocal Rank (MRR).   \n",
        "- Definition: Average of the reciprocal rank of the first correct result.  \n",
        "- Good for: Ranking evaluation — high scores = gold is near top.  "
      ],
      "metadata": {
        "id": "VLZ-8xW5aFcZ"
      },
      "id": "VLZ-8xW5aFcZ"
    },
    {
      "cell_type": "code",
      "source": [
        "def mrr(results, gold_map):\n",
        "    scores = []\n",
        "    for q, topk in results.items():\n",
        "        golds = gold_map[q]\n",
        "        for i, (pid, _) in enumerate(topk):\n",
        "            if pid in golds:\n",
        "                scores.append(1 / (i + 1))\n",
        "                break\n",
        "            else:\n",
        "                scores.append(0)\n",
        "    return sum(scores) / len(scores)"
      ],
      "metadata": {
        "id": "R2yH3F_LZ35p"
      },
      "id": "R2yH3F_LZ35p",
      "execution_count": 9,
      "outputs": []
    },
    {
      "cell_type": "markdown",
      "source": [
        "Rank Info:  \n",
        "- For individual ranks of every question"
      ],
      "metadata": {
        "id": "aaSLyDs1JEBj"
      },
      "id": "aaSLyDs1JEBj"
    },
    {
      "cell_type": "code",
      "source": [
        "def rank_positions(results, gold_map):\n",
        "    q_ranks = {}\n",
        "    for q, golds in gold_map.items():\n",
        "        topk = [id for id, sim in sorted(results[q], key=lambda x: x[1], reverse=True)]\n",
        "        rank = [topk.index(gold) if gold in topk else -1 for gold in golds ]\n",
        "        q_ranks[q] = rank\n",
        "    return q_ranks"
      ],
      "metadata": {
        "id": "Y5ljdva3JDy5"
      },
      "id": "Y5ljdva3JDy5",
      "execution_count": 10,
      "outputs": []
    },
    {
      "cell_type": "markdown",
      "id": "5049ac28",
      "metadata": {
        "id": "5049ac28"
      },
      "source": [
        "## 2. Data Preparation"
      ]
    },
    {
      "cell_type": "code",
      "source": [
        "import re\n",
        "\n",
        "def normalize_text(text):\n",
        "    # Lowercase\n",
        "    text = text.lower()\n",
        "\n",
        "    # Remove non-alphabetic characters\n",
        "    text = re.sub(r\"[^a-zA-Z0-9\\s]\", \"\", text)\n",
        "\n",
        "    # Collapse multiple spaces\n",
        "    text = re.sub(r\"\\s+\", \" \", text).strip()\n",
        "\n",
        "    return text"
      ],
      "metadata": {
        "id": "J7E5XlBzMGa3"
      },
      "id": "J7E5XlBzMGa3",
      "execution_count": 11,
      "outputs": []
    },
    {
      "cell_type": "code",
      "execution_count": 12,
      "id": "f652f4bc",
      "metadata": {
        "id": "f652f4bc"
      },
      "outputs": [],
      "source": [
        "# Load Ayatec QA pairs\n",
        "ayatec = pd.read_csv(\"/content/drive/MyDrive/IslamicEval/Data/preprocessed_questions_with_answers_train.csv\")  # ensure columns: question, surah_number, ayah_start, ayah_end\n",
        "\n",
        "# Load Qur'an + Tafseer passages\n",
        "qbc = pd.read_csv(\"/content/drive/MyDrive/IslamicEval/Data/qpc_with_quran_translation_and_aljalalyn.csv\")  # ensure columns: surah_number, ayah_start, ayah_end, english_passage, tafseer\n",
        "\n",
        "# Merge text fields\n",
        "qbc['text'] = qbc['english_quran_passage'] + \"\\n\" + qbc['aljalalyn_tafseer']\n",
        "qbc[\"text\"] = qbc[\"text\"].fillna(\"\")\n",
        "qbc['norm_text'] = qbc['text'].apply(normalize_text)\n",
        "\n",
        "# Optional: split long tafseer into chunks\n",
        "# TODO: implement chunking if necessary\n",
        "\n",
        "# Create unique IDs\n",
        "qbc['passage_id'] = qbc.apply(lambda r: f\"{r.surah_number}:{r.ayah_start}-{r.ayah_end}\", axis=1)\n",
        "\n",
        "# Train-test split for Ayatec so that every question is either train or test\n",
        "# Get the unique questions\n",
        "unique_questions = ayatec['english'].unique()\n",
        "\n",
        "# Split the unique questions into train and test sets\n",
        "train_questions, test_questions = train_test_split(\n",
        "    unique_questions,\n",
        "    test_size=0.1, # Adjust the test size as needed\n",
        "    random_state=42, # for reproducibility\n",
        "    # No stratify needed here if you just want to split unique questions randomly\n",
        "    # If you need to stratify based on some property of the question, you'd need a list\n",
        "    # or array of that property corresponding to the unique questions.\n",
        ")\n",
        "\n",
        "# Filter the original ayatec DataFrame to create train_q and test_q based on the split questions\n",
        "train_q = ayatec[ayatec['english'].isin(train_questions)].copy()\n",
        "test_q = ayatec[ayatec['english'].isin(test_questions)].copy()"
      ]
    },
    {
      "cell_type": "markdown",
      "source": [
        "Group Gold Answers"
      ],
      "metadata": {
        "id": "bfUXZbqrGOz_"
      },
      "id": "bfUXZbqrGOz_"
    },
    {
      "cell_type": "code",
      "source": [
        "from collections import defaultdict\n",
        "\n",
        "def group_gold_answers(df):\n",
        "    grouped = defaultdict(set)\n",
        "    for _, row in df.iterrows():\n",
        "        qid = row['english']\n",
        "        pid = row['answer']\n",
        "        grouped[qid].add(pid)\n",
        "    return grouped"
      ],
      "metadata": {
        "id": "nZ2riPWcGN5m"
      },
      "id": "nZ2riPWcGN5m",
      "execution_count": 13,
      "outputs": []
    },
    {
      "cell_type": "code",
      "source": [
        "# Group gold answers\n",
        "gold_map = group_gold_answers(ayatec)"
      ],
      "metadata": {
        "id": "rTSwGdqKGZ10"
      },
      "id": "rTSwGdqKGZ10",
      "execution_count": 14,
      "outputs": []
    },
    {
      "cell_type": "markdown",
      "source": [
        "Creating dataframe for question level evaluation"
      ],
      "metadata": {
        "id": "0vgJXTAtuoVT"
      },
      "id": "0vgJXTAtuoVT"
    },
    {
      "cell_type": "code",
      "source": [
        "eval_df = ayatec.groupby(\"english\")[\"answer\"].nunique().loc[ayatec[\"english\"].unique()].reset_index(name=\"count_answers\").rename(columns={\"english\":\"question\"})"
      ],
      "metadata": {
        "id": "PRxrYA3sG2g6"
      },
      "id": "PRxrYA3sG2g6",
      "execution_count": 15,
      "outputs": []
    },
    {
      "cell_type": "code",
      "source": [
        "eval_df"
      ],
      "metadata": {
        "colab": {
          "base_uri": "https://localhost:8080/",
          "height": 424
        },
        "id": "sO5E0a0Mz_Yh",
        "outputId": "0dbac334-68e6-41bb-9548-b92a4e5fd3bd"
      },
      "id": "sO5E0a0Mz_Yh",
      "execution_count": 16,
      "outputs": [
        {
          "output_type": "execute_result",
          "data": {
            "text/plain": [
              "                                              question  count_answers\n",
              "0                      Who were the people of Shu'ayb?              4\n",
              "1                        Who were the people of Moses?             17\n",
              "2                                 Who built the Kaaba?              1\n",
              "3                 Which prophet is known for patience?              2\n",
              "4                   Who was the guardian of Lady Mary?              1\n",
              "..                                                 ...            ...\n",
              "205  What is the most profitable trade mentioned in...              5\n",
              "206                      Can Satan mislead all people?              8\n",
              "207                 Who are the ten promised Paradise?              1\n",
              "208  Is Islam a multi‑cultural and multi‑ethnic rel...              2\n",
              "209  Is there evidence for the unity of divinely‑re...             19\n",
              "\n",
              "[210 rows x 2 columns]"
            ],
            "text/html": [
              "\n",
              "  <div id=\"df-31d8e4e8-d858-450c-a648-159bbdf9908d\" class=\"colab-df-container\">\n",
              "    <div>\n",
              "<style scoped>\n",
              "    .dataframe tbody tr th:only-of-type {\n",
              "        vertical-align: middle;\n",
              "    }\n",
              "\n",
              "    .dataframe tbody tr th {\n",
              "        vertical-align: top;\n",
              "    }\n",
              "\n",
              "    .dataframe thead th {\n",
              "        text-align: right;\n",
              "    }\n",
              "</style>\n",
              "<table border=\"1\" class=\"dataframe\">\n",
              "  <thead>\n",
              "    <tr style=\"text-align: right;\">\n",
              "      <th></th>\n",
              "      <th>question</th>\n",
              "      <th>count_answers</th>\n",
              "    </tr>\n",
              "  </thead>\n",
              "  <tbody>\n",
              "    <tr>\n",
              "      <th>0</th>\n",
              "      <td>Who were the people of Shu'ayb?</td>\n",
              "      <td>4</td>\n",
              "    </tr>\n",
              "    <tr>\n",
              "      <th>1</th>\n",
              "      <td>Who were the people of Moses?</td>\n",
              "      <td>17</td>\n",
              "    </tr>\n",
              "    <tr>\n",
              "      <th>2</th>\n",
              "      <td>Who built the Kaaba?</td>\n",
              "      <td>1</td>\n",
              "    </tr>\n",
              "    <tr>\n",
              "      <th>3</th>\n",
              "      <td>Which prophet is known for patience?</td>\n",
              "      <td>2</td>\n",
              "    </tr>\n",
              "    <tr>\n",
              "      <th>4</th>\n",
              "      <td>Who was the guardian of Lady Mary?</td>\n",
              "      <td>1</td>\n",
              "    </tr>\n",
              "    <tr>\n",
              "      <th>...</th>\n",
              "      <td>...</td>\n",
              "      <td>...</td>\n",
              "    </tr>\n",
              "    <tr>\n",
              "      <th>205</th>\n",
              "      <td>What is the most profitable trade mentioned in...</td>\n",
              "      <td>5</td>\n",
              "    </tr>\n",
              "    <tr>\n",
              "      <th>206</th>\n",
              "      <td>Can Satan mislead all people?</td>\n",
              "      <td>8</td>\n",
              "    </tr>\n",
              "    <tr>\n",
              "      <th>207</th>\n",
              "      <td>Who are the ten promised Paradise?</td>\n",
              "      <td>1</td>\n",
              "    </tr>\n",
              "    <tr>\n",
              "      <th>208</th>\n",
              "      <td>Is Islam a multi‑cultural and multi‑ethnic rel...</td>\n",
              "      <td>2</td>\n",
              "    </tr>\n",
              "    <tr>\n",
              "      <th>209</th>\n",
              "      <td>Is there evidence for the unity of divinely‑re...</td>\n",
              "      <td>19</td>\n",
              "    </tr>\n",
              "  </tbody>\n",
              "</table>\n",
              "<p>210 rows × 2 columns</p>\n",
              "</div>\n",
              "    <div class=\"colab-df-buttons\">\n",
              "\n",
              "  <div class=\"colab-df-container\">\n",
              "    <button class=\"colab-df-convert\" onclick=\"convertToInteractive('df-31d8e4e8-d858-450c-a648-159bbdf9908d')\"\n",
              "            title=\"Convert this dataframe to an interactive table.\"\n",
              "            style=\"display:none;\">\n",
              "\n",
              "  <svg xmlns=\"http://www.w3.org/2000/svg\" height=\"24px\" viewBox=\"0 -960 960 960\">\n",
              "    <path d=\"M120-120v-720h720v720H120Zm60-500h600v-160H180v160Zm220 220h160v-160H400v160Zm0 220h160v-160H400v160ZM180-400h160v-160H180v160Zm440 0h160v-160H620v160ZM180-180h160v-160H180v160Zm440 0h160v-160H620v160Z\"/>\n",
              "  </svg>\n",
              "    </button>\n",
              "\n",
              "  <style>\n",
              "    .colab-df-container {\n",
              "      display:flex;\n",
              "      gap: 12px;\n",
              "    }\n",
              "\n",
              "    .colab-df-convert {\n",
              "      background-color: #E8F0FE;\n",
              "      border: none;\n",
              "      border-radius: 50%;\n",
              "      cursor: pointer;\n",
              "      display: none;\n",
              "      fill: #1967D2;\n",
              "      height: 32px;\n",
              "      padding: 0 0 0 0;\n",
              "      width: 32px;\n",
              "    }\n",
              "\n",
              "    .colab-df-convert:hover {\n",
              "      background-color: #E2EBFA;\n",
              "      box-shadow: 0px 1px 2px rgba(60, 64, 67, 0.3), 0px 1px 3px 1px rgba(60, 64, 67, 0.15);\n",
              "      fill: #174EA6;\n",
              "    }\n",
              "\n",
              "    .colab-df-buttons div {\n",
              "      margin-bottom: 4px;\n",
              "    }\n",
              "\n",
              "    [theme=dark] .colab-df-convert {\n",
              "      background-color: #3B4455;\n",
              "      fill: #D2E3FC;\n",
              "    }\n",
              "\n",
              "    [theme=dark] .colab-df-convert:hover {\n",
              "      background-color: #434B5C;\n",
              "      box-shadow: 0px 1px 3px 1px rgba(0, 0, 0, 0.15);\n",
              "      filter: drop-shadow(0px 1px 2px rgba(0, 0, 0, 0.3));\n",
              "      fill: #FFFFFF;\n",
              "    }\n",
              "  </style>\n",
              "\n",
              "    <script>\n",
              "      const buttonEl =\n",
              "        document.querySelector('#df-31d8e4e8-d858-450c-a648-159bbdf9908d button.colab-df-convert');\n",
              "      buttonEl.style.display =\n",
              "        google.colab.kernel.accessAllowed ? 'block' : 'none';\n",
              "\n",
              "      async function convertToInteractive(key) {\n",
              "        const element = document.querySelector('#df-31d8e4e8-d858-450c-a648-159bbdf9908d');\n",
              "        const dataTable =\n",
              "          await google.colab.kernel.invokeFunction('convertToInteractive',\n",
              "                                                    [key], {});\n",
              "        if (!dataTable) return;\n",
              "\n",
              "        const docLinkHtml = 'Like what you see? Visit the ' +\n",
              "          '<a target=\"_blank\" href=https://colab.research.google.com/notebooks/data_table.ipynb>data table notebook</a>'\n",
              "          + ' to learn more about interactive tables.';\n",
              "        element.innerHTML = '';\n",
              "        dataTable['output_type'] = 'display_data';\n",
              "        await google.colab.output.renderOutput(dataTable, element);\n",
              "        const docLink = document.createElement('div');\n",
              "        docLink.innerHTML = docLinkHtml;\n",
              "        element.appendChild(docLink);\n",
              "      }\n",
              "    </script>\n",
              "  </div>\n",
              "\n",
              "\n",
              "    <div id=\"df-a2c837d0-48ea-4c4d-8a14-3645e1bd05ad\">\n",
              "      <button class=\"colab-df-quickchart\" onclick=\"quickchart('df-a2c837d0-48ea-4c4d-8a14-3645e1bd05ad')\"\n",
              "                title=\"Suggest charts\"\n",
              "                style=\"display:none;\">\n",
              "\n",
              "<svg xmlns=\"http://www.w3.org/2000/svg\" height=\"24px\"viewBox=\"0 0 24 24\"\n",
              "     width=\"24px\">\n",
              "    <g>\n",
              "        <path d=\"M19 3H5c-1.1 0-2 .9-2 2v14c0 1.1.9 2 2 2h14c1.1 0 2-.9 2-2V5c0-1.1-.9-2-2-2zM9 17H7v-7h2v7zm4 0h-2V7h2v10zm4 0h-2v-4h2v4z\"/>\n",
              "    </g>\n",
              "</svg>\n",
              "      </button>\n",
              "\n",
              "<style>\n",
              "  .colab-df-quickchart {\n",
              "      --bg-color: #E8F0FE;\n",
              "      --fill-color: #1967D2;\n",
              "      --hover-bg-color: #E2EBFA;\n",
              "      --hover-fill-color: #174EA6;\n",
              "      --disabled-fill-color: #AAA;\n",
              "      --disabled-bg-color: #DDD;\n",
              "  }\n",
              "\n",
              "  [theme=dark] .colab-df-quickchart {\n",
              "      --bg-color: #3B4455;\n",
              "      --fill-color: #D2E3FC;\n",
              "      --hover-bg-color: #434B5C;\n",
              "      --hover-fill-color: #FFFFFF;\n",
              "      --disabled-bg-color: #3B4455;\n",
              "      --disabled-fill-color: #666;\n",
              "  }\n",
              "\n",
              "  .colab-df-quickchart {\n",
              "    background-color: var(--bg-color);\n",
              "    border: none;\n",
              "    border-radius: 50%;\n",
              "    cursor: pointer;\n",
              "    display: none;\n",
              "    fill: var(--fill-color);\n",
              "    height: 32px;\n",
              "    padding: 0;\n",
              "    width: 32px;\n",
              "  }\n",
              "\n",
              "  .colab-df-quickchart:hover {\n",
              "    background-color: var(--hover-bg-color);\n",
              "    box-shadow: 0 1px 2px rgba(60, 64, 67, 0.3), 0 1px 3px 1px rgba(60, 64, 67, 0.15);\n",
              "    fill: var(--button-hover-fill-color);\n",
              "  }\n",
              "\n",
              "  .colab-df-quickchart-complete:disabled,\n",
              "  .colab-df-quickchart-complete:disabled:hover {\n",
              "    background-color: var(--disabled-bg-color);\n",
              "    fill: var(--disabled-fill-color);\n",
              "    box-shadow: none;\n",
              "  }\n",
              "\n",
              "  .colab-df-spinner {\n",
              "    border: 2px solid var(--fill-color);\n",
              "    border-color: transparent;\n",
              "    border-bottom-color: var(--fill-color);\n",
              "    animation:\n",
              "      spin 1s steps(1) infinite;\n",
              "  }\n",
              "\n",
              "  @keyframes spin {\n",
              "    0% {\n",
              "      border-color: transparent;\n",
              "      border-bottom-color: var(--fill-color);\n",
              "      border-left-color: var(--fill-color);\n",
              "    }\n",
              "    20% {\n",
              "      border-color: transparent;\n",
              "      border-left-color: var(--fill-color);\n",
              "      border-top-color: var(--fill-color);\n",
              "    }\n",
              "    30% {\n",
              "      border-color: transparent;\n",
              "      border-left-color: var(--fill-color);\n",
              "      border-top-color: var(--fill-color);\n",
              "      border-right-color: var(--fill-color);\n",
              "    }\n",
              "    40% {\n",
              "      border-color: transparent;\n",
              "      border-right-color: var(--fill-color);\n",
              "      border-top-color: var(--fill-color);\n",
              "    }\n",
              "    60% {\n",
              "      border-color: transparent;\n",
              "      border-right-color: var(--fill-color);\n",
              "    }\n",
              "    80% {\n",
              "      border-color: transparent;\n",
              "      border-right-color: var(--fill-color);\n",
              "      border-bottom-color: var(--fill-color);\n",
              "    }\n",
              "    90% {\n",
              "      border-color: transparent;\n",
              "      border-bottom-color: var(--fill-color);\n",
              "    }\n",
              "  }\n",
              "</style>\n",
              "\n",
              "      <script>\n",
              "        async function quickchart(key) {\n",
              "          const quickchartButtonEl =\n",
              "            document.querySelector('#' + key + ' button');\n",
              "          quickchartButtonEl.disabled = true;  // To prevent multiple clicks.\n",
              "          quickchartButtonEl.classList.add('colab-df-spinner');\n",
              "          try {\n",
              "            const charts = await google.colab.kernel.invokeFunction(\n",
              "                'suggestCharts', [key], {});\n",
              "          } catch (error) {\n",
              "            console.error('Error during call to suggestCharts:', error);\n",
              "          }\n",
              "          quickchartButtonEl.classList.remove('colab-df-spinner');\n",
              "          quickchartButtonEl.classList.add('colab-df-quickchart-complete');\n",
              "        }\n",
              "        (() => {\n",
              "          let quickchartButtonEl =\n",
              "            document.querySelector('#df-a2c837d0-48ea-4c4d-8a14-3645e1bd05ad button');\n",
              "          quickchartButtonEl.style.display =\n",
              "            google.colab.kernel.accessAllowed ? 'block' : 'none';\n",
              "        })();\n",
              "      </script>\n",
              "    </div>\n",
              "\n",
              "  <div id=\"id_df660100-b219-416c-b3a7-cc3fbafcd416\">\n",
              "    <style>\n",
              "      .colab-df-generate {\n",
              "        background-color: #E8F0FE;\n",
              "        border: none;\n",
              "        border-radius: 50%;\n",
              "        cursor: pointer;\n",
              "        display: none;\n",
              "        fill: #1967D2;\n",
              "        height: 32px;\n",
              "        padding: 0 0 0 0;\n",
              "        width: 32px;\n",
              "      }\n",
              "\n",
              "      .colab-df-generate:hover {\n",
              "        background-color: #E2EBFA;\n",
              "        box-shadow: 0px 1px 2px rgba(60, 64, 67, 0.3), 0px 1px 3px 1px rgba(60, 64, 67, 0.15);\n",
              "        fill: #174EA6;\n",
              "      }\n",
              "\n",
              "      [theme=dark] .colab-df-generate {\n",
              "        background-color: #3B4455;\n",
              "        fill: #D2E3FC;\n",
              "      }\n",
              "\n",
              "      [theme=dark] .colab-df-generate:hover {\n",
              "        background-color: #434B5C;\n",
              "        box-shadow: 0px 1px 3px 1px rgba(0, 0, 0, 0.15);\n",
              "        filter: drop-shadow(0px 1px 2px rgba(0, 0, 0, 0.3));\n",
              "        fill: #FFFFFF;\n",
              "      }\n",
              "    </style>\n",
              "    <button class=\"colab-df-generate\" onclick=\"generateWithVariable('eval_df')\"\n",
              "            title=\"Generate code using this dataframe.\"\n",
              "            style=\"display:none;\">\n",
              "\n",
              "  <svg xmlns=\"http://www.w3.org/2000/svg\" height=\"24px\"viewBox=\"0 0 24 24\"\n",
              "       width=\"24px\">\n",
              "    <path d=\"M7,19H8.4L18.45,9,17,7.55,7,17.6ZM5,21V16.75L18.45,3.32a2,2,0,0,1,2.83,0l1.4,1.43a1.91,1.91,0,0,1,.58,1.4,1.91,1.91,0,0,1-.58,1.4L9.25,21ZM18.45,9,17,7.55Zm-12,3A5.31,5.31,0,0,0,4.9,8.1,5.31,5.31,0,0,0,1,6.5,5.31,5.31,0,0,0,4.9,4.9,5.31,5.31,0,0,0,6.5,1,5.31,5.31,0,0,0,8.1,4.9,5.31,5.31,0,0,0,12,6.5,5.46,5.46,0,0,0,6.5,12Z\"/>\n",
              "  </svg>\n",
              "    </button>\n",
              "    <script>\n",
              "      (() => {\n",
              "      const buttonEl =\n",
              "        document.querySelector('#id_df660100-b219-416c-b3a7-cc3fbafcd416 button.colab-df-generate');\n",
              "      buttonEl.style.display =\n",
              "        google.colab.kernel.accessAllowed ? 'block' : 'none';\n",
              "\n",
              "      buttonEl.onclick = () => {\n",
              "        google.colab.notebook.generateWithVariable('eval_df');\n",
              "      }\n",
              "      })();\n",
              "    </script>\n",
              "  </div>\n",
              "\n",
              "    </div>\n",
              "  </div>\n"
            ],
            "application/vnd.google.colaboratory.intrinsic+json": {
              "type": "dataframe",
              "variable_name": "eval_df",
              "summary": "{\n  \"name\": \"eval_df\",\n  \"rows\": 210,\n  \"fields\": [\n    {\n      \"column\": \"question\",\n      \"properties\": {\n        \"dtype\": \"string\",\n        \"num_unique_values\": 210,\n        \"samples\": [\n          \"Who are the defrauders (Al\\u2011Mu\\u1e6daffif\\u012bn)?\",\n          \"Did the Qur\\u2019an warn believers against taking People of the Book as allies?\",\n          \"What is jih\\u0101d?\"\n        ],\n        \"semantic_type\": \"\",\n        \"description\": \"\"\n      }\n    },\n    {\n      \"column\": \"count_answers\",\n      \"properties\": {\n        \"dtype\": \"number\",\n        \"std\": 12,\n        \"min\": 1,\n        \"max\": 144,\n        \"num_unique_values\": 27,\n        \"samples\": [\n          26,\n          16,\n          10\n        ],\n        \"semantic_type\": \"\",\n        \"description\": \"\"\n      }\n    }\n  ]\n}"
            }
          },
          "metadata": {},
          "execution_count": 16
        }
      ]
    },
    {
      "cell_type": "markdown",
      "id": "45edc668",
      "metadata": {
        "id": "45edc668"
      },
      "source": [
        "## 3. Sparse Retrieval (TF-IDF)"
      ]
    },
    {
      "cell_type": "code",
      "execution_count": 17,
      "id": "fd07fcd2",
      "metadata": {
        "id": "fd07fcd2"
      },
      "outputs": [],
      "source": [
        "# Fit once (after loading and processing qbc)\n",
        "tfidf_vectorizer = TfidfVectorizer(stop_words='english')\n",
        "tfidf_matrix = tfidf_vectorizer.fit_transform(qbc['text'].tolist())\n",
        "\n",
        "\n",
        "# TODO: build index from qbc['text'], using passage_id as docid\n",
        "# e.g., using SimpleIndexer or Elasticsearch client\n"
      ]
    },
    {
      "cell_type": "code",
      "execution_count": 18,
      "id": "76d94ce1",
      "metadata": {
        "id": "76d94ce1"
      },
      "outputs": [],
      "source": [
        "# 3.2 Searching\n",
        "def tfidf_search(query, top_k=10):\n",
        "    #query = normalize_text(query)\n",
        "    query_vec = tfidf_vectorizer.transform([query])\n",
        "    scores = cosine_similarity(query_vec, tfidf_matrix).flatten()\n",
        "    top_idxs = scores.argsort()[::-1][:top_k]\n",
        "    return [(qbc.iloc[i]['passage_id'], float(scores[i])) for i in top_idxs]\n"
      ]
    },
    {
      "cell_type": "code",
      "source": [
        "tfidf_search(\"Who were the people of Moses?\")"
      ],
      "metadata": {
        "colab": {
          "base_uri": "https://localhost:8080/"
        },
        "id": "QX258DgU_iKn",
        "outputId": "fdfdc7d7-89d2-4029-a376-8140b2af9cfc"
      },
      "id": "QX258DgU_iKn",
      "execution_count": 19,
      "outputs": [
        {
          "output_type": "execute_result",
          "data": {
            "text/plain": [
              "[('28:44-46', 0.4445285805281541),\n",
              " ('28:14-19', 0.4379055496383321),\n",
              " ('5:20-26', 0.35025910181305997),\n",
              " ('18:60-77', 0.3486591737880143),\n",
              " ('10:79-86', 0.34466180089701187),\n",
              " ('10:87-89', 0.331338532326257),\n",
              " ('14:5-8', 0.3205291416439311),\n",
              " ('26:23-40', 0.3170604477862156),\n",
              " ('17:101-104', 0.2991525073544701),\n",
              " ('23:45-50', 0.29870600831140837)]"
            ]
          },
          "metadata": {},
          "execution_count": 19
        }
      ]
    },
    {
      "cell_type": "code",
      "source": [
        "# Run retrieval per unique question\n",
        "sparse_results = {q: tfidf_search(q, 50) for q in gold_map}\n",
        "\n",
        "# Evaluate\n",
        "print(\"TF-IDF Recall@20:\", recall_at_k(sparse_results, gold_map, 50))\n",
        "print(\"TF-IDF Precision@10:\", precision_at_k(sparse_results, gold_map, 10))"
      ],
      "metadata": {
        "colab": {
          "base_uri": "https://localhost:8080/"
        },
        "id": "hPHdUOljqfSI",
        "outputId": "31aae0b8-fac7-4b8e-e0b8-66dda411eda8"
      },
      "id": "hPHdUOljqfSI",
      "execution_count": 20,
      "outputs": [
        {
          "output_type": "stream",
          "name": "stdout",
          "text": [
            "TF-IDF Recall@20: 0.4207892314170512\n",
            "TF-IDF Precision@10: 0.08285714285714284\n"
          ]
        }
      ]
    },
    {
      "cell_type": "code",
      "source": [
        "eval_df[\"recall_sparse\"] = pd.Series(({q: 1-(ranks.count(-1)/len(ranks)) for q, ranks in rank_positions(sparse_results, gold_map).items()}),name=\"recall_sparse\").reset_index(drop=True)"
      ],
      "metadata": {
        "id": "_bb-X9HuJXER"
      },
      "id": "_bb-X9HuJXER",
      "execution_count": 21,
      "outputs": []
    },
    {
      "cell_type": "markdown",
      "source": [
        "TODO:\n",
        "- use BM25 instead of tfidf.\n",
        "  - BM25 using pysirin was very hard to install on colab or even local\n",
        "  - BM25 from elastic search needed docker service running (not possible on drive)\n",
        "- change parameters of tfidf, n-gram, limmtizing words, ...\n",
        "- Analyze difficult questions\n",
        "- How about using non Aya/Hadith answer from chatgpt together with the question ?"
      ],
      "metadata": {
        "id": "9C84H9Fe7elY"
      },
      "id": "9C84H9Fe7elY"
    },
    {
      "cell_type": "markdown",
      "id": "f5808945",
      "metadata": {
        "id": "f5808945"
      },
      "source": [
        "## 4. Dense Retrieval (Embeddings + FAISS)"
      ]
    },
    {
      "cell_type": "code",
      "execution_count": 22,
      "id": "6f9fe1d8",
      "metadata": {
        "colab": {
          "base_uri": "https://localhost:8080/",
          "height": 176,
          "referenced_widgets": [
            "d1fab4744c2d4901919e54154e516ced",
            "39d24991c5724bb3ae571b8380bc759d",
            "88b259e4d22b461fb0754291bc76a8ec",
            "bdba70da43574b70ad2e139406ce3e71",
            "77a5f2d5b0244490979b86d9d9200151",
            "e678b1f3a3a246b5bbf4d3da2a2e777a",
            "a069695d2a8a49d59277f9bc456be7db",
            "79439525a6f74ca1af6c38d4e27387da",
            "6ebeb6c337934bdc9bc45bff95c0fc79",
            "b65c6ded93174e96a1b4c7c808a5139c",
            "4bf4f395c6564a07833f5949f3dbfb44"
          ]
        },
        "id": "6f9fe1d8",
        "outputId": "958dcf85-cdb7-4522-c524-76187c769bd6"
      },
      "outputs": [
        {
          "output_type": "stream",
          "name": "stderr",
          "text": [
            "/usr/local/lib/python3.11/dist-packages/huggingface_hub/utils/_auth.py:94: UserWarning: \n",
            "The secret `HF_TOKEN` does not exist in your Colab secrets.\n",
            "To authenticate with the Hugging Face Hub, create a token in your settings tab (https://huggingface.co/settings/tokens), set it as secret in your Google Colab and restart your session.\n",
            "You will be able to reuse this secret in all of your notebooks.\n",
            "Please note that authentication is recommended but still optional to access public models or datasets.\n",
            "  warnings.warn(\n"
          ]
        },
        {
          "output_type": "display_data",
          "data": {
            "text/plain": [
              "Batches:   0%|          | 0/40 [00:00<?, ?it/s]"
            ],
            "application/vnd.jupyter.widget-view+json": {
              "version_major": 2,
              "version_minor": 0,
              "model_id": "d1fab4744c2d4901919e54154e516ced"
            }
          },
          "metadata": {}
        }
      ],
      "source": [
        "# 4.1 Encode passages\n",
        "embed_model = SentenceTransformer('all-MiniLM-L6-v2')  # or other embedding\n",
        "passage_embeddings = embed_model.encode(qbc['norm_text'].tolist(), show_progress_bar=True)\n",
        "\n",
        "# 4.2 Build FAISS index\n",
        "d = passage_embeddings.shape[1]\n",
        "faiss_index = faiss.IndexFlatIP(d)\n",
        "faiss.normalize_L2(passage_embeddings)\n",
        "faiss_index.add(passage_embeddings)\n"
      ]
    },
    {
      "cell_type": "code",
      "execution_count": 23,
      "id": "355754cd",
      "metadata": {
        "id": "355754cd"
      },
      "outputs": [],
      "source": [
        "# 4.3 Searching\n",
        "def dense_search(query, top_k=10):\n",
        "    # query = normalize_text(query)\n",
        "    q_emb = embed_model.encode([query])\n",
        "    faiss.normalize_L2(q_emb)\n",
        "    scores, idxs = faiss_index.search(q_emb, top_k)\n",
        "    results = [(qbc.iloc[i]['passage_id'], float(scores[0][j])) for j,i in enumerate(idxs[0])]\n",
        "    return results"
      ]
    },
    {
      "cell_type": "code",
      "source": [
        "dense_search(\"Who were the people of Shu'ayb?\", top_k=10)"
      ],
      "metadata": {
        "colab": {
          "base_uri": "https://localhost:8080/"
        },
        "id": "73UsW4oWPPlz",
        "outputId": "29cfa5b1-2038-4bf1-bc0b-675d722f5a3c"
      },
      "id": "73UsW4oWPPlz",
      "execution_count": 24,
      "outputs": [
        {
          "output_type": "execute_result",
          "data": {
            "text/plain": [
              "[('15:78-79', 0.4009245038032532),\n",
              " ('50:12-15', 0.38162386417388916),\n",
              " ('21:74-75', 0.3635067343711853),\n",
              " ('69:9-12', 0.3556203842163086),\n",
              " ('38:12-16', 0.3279416263103485),\n",
              " ('34:15-19', 0.3234798312187195),\n",
              " ('37:123-132', 0.3219572901725769),\n",
              " ('72:1-7', 0.3219206631183624),\n",
              " ('7:109-112', 0.3206075429916382),\n",
              " ('2:243-245', 0.3173002600669861)]"
            ]
          },
          "metadata": {},
          "execution_count": 24
        }
      ]
    },
    {
      "cell_type": "code",
      "source": [
        "# Run retrieval per unique question\n",
        "dense_results = {q: dense_search(q, 50) for q in gold_map}\n",
        "\n",
        "# Evaluate\n",
        "print(\"Dense Recall@20:\", recall_at_k(dense_results, gold_map, 50))\n",
        "print(\"Dense Precision@10:\", precision_at_k(dense_results, gold_map, 10))"
      ],
      "metadata": {
        "colab": {
          "base_uri": "https://localhost:8080/"
        },
        "id": "wPtU2YqEHSNk",
        "outputId": "1a535a5a-dd99-4995-d734-ea79467a165c"
      },
      "id": "wPtU2YqEHSNk",
      "execution_count": 25,
      "outputs": [
        {
          "output_type": "stream",
          "name": "stdout",
          "text": [
            "Dense Recall@20: 0.36114732127392474\n",
            "Dense Precision@10: 0.07142857142857134\n"
          ]
        }
      ]
    },
    {
      "cell_type": "code",
      "source": [
        "eval_df[\"recall_dense\"] = pd.Series(({q: 1-(ranks.count(-1)/len(ranks)) for q, ranks in rank_positions(dense_results, gold_map).items()}),name=\"recall_dense\").reset_index(drop=True)"
      ],
      "metadata": {
        "id": "NIUlFkvRqNy_"
      },
      "id": "NIUlFkvRqNy_",
      "execution_count": 26,
      "outputs": []
    },
    {
      "source": [
        "from matplotlib import pyplot as plt\n",
        "eval_df.plot(kind='scatter', x='recall_sparse', y='recall_dense', s=32, alpha=.8)\n",
        "plt.gca().spines[['top', 'right',]].set_visible(False)"
      ],
      "cell_type": "code",
      "metadata": {
        "colab": {
          "base_uri": "https://localhost:8080/",
          "height": 450
        },
        "id": "-DFxqHYPrIN4",
        "outputId": "42d0cd99-a938-4a8d-d7a7-839adfe6120f"
      },
      "id": "-DFxqHYPrIN4",
      "execution_count": 27,
      "outputs": [
        {
          "output_type": "display_data",
          "data": {
            "text/plain": [
              "<Figure size 640x480 with 1 Axes>"
            ],
            "image/png": "[encoded data removed]"
          },
          "metadata": {}
        }
      ]
    },
    {
      "cell_type": "markdown",
      "source": [
        "TODO:\n",
        "- use diffrent embedding model\n",
        "- Analyze difficult questions"
      ],
      "metadata": {
        "id": "vz6HUsC5745c"
      },
      "id": "vz6HUsC5745c"
    },
    {
      "cell_type": "markdown",
      "id": "36277ec2",
      "metadata": {
        "id": "36277ec2"
      },
      "source": [
        "## 5. Retriever Fusion"
      ]
    },
    {
      "cell_type": "code",
      "execution_count": 28,
      "id": "3eb432c4",
      "metadata": {
        "id": "3eb432c4"
      },
      "outputs": [],
      "source": [
        "def hybrid_retrieve(query, k1=10, k2=10, final_k=20):\n",
        "    sparse = tfidf_search(query, k1)\n",
        "    dense = dense_search(query, k2)\n",
        "    # TODO: normalize scores and merge, then select top final_k\n",
        "    # Simple placeholder: just concatenate for now\n",
        "    all_cand = sparse + dense\n",
        "    # TODO: implement proper fusion\n",
        "    return all_cand[:final_k]"
      ]
    },
    {
      "cell_type": "code",
      "source": [
        "hybrid_retrieve(\"Who were the people of Shu'ayb?\", final_k=20)"
      ],
      "metadata": {
        "colab": {
          "base_uri": "https://localhost:8080/"
        },
        "id": "91n5wlnor-vA",
        "outputId": "91336a77-ed2a-4554-ed03-0f8f0b841260"
      },
      "id": "91n5wlnor-vA",
      "execution_count": 29,
      "outputs": [
        {
          "output_type": "execute_result",
          "data": {
            "text/plain": [
              "[('7:85-93', 0.690995691404175),\n",
              " ('15:78-79', 0.4488935598973097),\n",
              " ('26:176-191', 0.3825999757315458),\n",
              " ('29:36-37', 0.35671561474191715),\n",
              " ('28:22-28', 0.30247801217127224),\n",
              " ('11:84-88', 0.27722150464051326),\n",
              " ('11:89-95', 0.27579673902633606),\n",
              " ('50:12-15', 0.1811615584035765),\n",
              " ('22:42-46', 0.16306576519570418),\n",
              " ('38:12-16', 0.1629856258189822),\n",
              " ('15:78-79', 0.4009245038032532),\n",
              " ('50:12-15', 0.38162386417388916),\n",
              " ('21:74-75', 0.3635067343711853),\n",
              " ('69:9-12', 0.3556203842163086),\n",
              " ('38:12-16', 0.3279416263103485),\n",
              " ('34:15-19', 0.3234798312187195),\n",
              " ('37:123-132', 0.3219572901725769),\n",
              " ('72:1-7', 0.3219206631183624),\n",
              " ('7:109-112', 0.3206075429916382),\n",
              " ('2:243-245', 0.3173002600669861)]"
            ]
          },
          "metadata": {},
          "execution_count": 29
        }
      ]
    },
    {
      "cell_type": "code",
      "source": [
        "# Run retrieval per unique question\n",
        "hyprid_results = {q: hybrid_retrieve(q, k1=50, k2=50, final_k=100) for q in gold_map}\n",
        "\n",
        "# Evaluate\n",
        "print(\"hyprid Recall@20:\", recall_at_k(hyprid_results, gold_map, 100))\n",
        "print(\"hyprid Precision@10:\", precision_at_k(hyprid_results, gold_map, 10))"
      ],
      "metadata": {
        "colab": {
          "base_uri": "https://localhost:8080/"
        },
        "id": "8ncwAURrr-pb",
        "outputId": "a7a627ff-7699-46d5-d936-a59ba1ff0c22"
      },
      "id": "8ncwAURrr-pb",
      "execution_count": 30,
      "outputs": [
        {
          "output_type": "stream",
          "name": "stdout",
          "text": [
            "hyprid Recall@20: 0.5168021533045859\n",
            "hyprid Precision@10: 0.07380952380952371\n"
          ]
        }
      ]
    },
    {
      "cell_type": "code",
      "source": [
        "eval_df[\"recall_hyprid\"] = pd.Series(({q: 1-(ranks.count(-1)/len(ranks)) for q, ranks in rank_positions(hyprid_results, gold_map).items()}),name=\"recall_hyprid\").reset_index(drop=True)"
      ],
      "metadata": {
        "id": "slRznozDr-fK"
      },
      "id": "slRznozDr-fK",
      "execution_count": 31,
      "outputs": []
    },
    {
      "cell_type": "code",
      "source": [
        "(eval_df[\"recall_dense\"] > eval_df[\"recall_sparse\"]).mean()"
      ],
      "metadata": {
        "colab": {
          "base_uri": "https://localhost:8080/"
        },
        "id": "u1n1kUDu5gWS",
        "outputId": "8bb2ff84-2d78-4312-88b5-992ced91ed27"
      },
      "id": "u1n1kUDu5gWS",
      "execution_count": 32,
      "outputs": [
        {
          "output_type": "execute_result",
          "data": {
            "text/plain": [
              "0.18095238095238095"
            ]
          },
          "metadata": {},
          "execution_count": 32
        }
      ]
    },
    {
      "cell_type": "code",
      "source": [
        "(eval_df[\"recall_sparse\"] > eval_df[\"recall_dense\"]).mean()"
      ],
      "metadata": {
        "colab": {
          "base_uri": "https://localhost:8080/"
        },
        "id": "N7X-DVFzsn6r",
        "outputId": "a107a311-29c7-46be-fabd-1788492777b2"
      },
      "id": "N7X-DVFzsn6r",
      "execution_count": 33,
      "outputs": [
        {
          "output_type": "execute_result",
          "data": {
            "text/plain": [
              "0.32857142857142857"
            ]
          },
          "metadata": {},
          "execution_count": 33
        }
      ]
    },
    {
      "cell_type": "markdown",
      "source": [
        "TODO:\n",
        "- make diffrent merging method than just concat\n",
        "- Analyse how sparse VS dense performing in question"
      ],
      "metadata": {
        "id": "aYboe1p78TUI"
      },
      "id": "aYboe1p78TUI"
    },
    {
      "cell_type": "markdown",
      "id": "37909c69",
      "metadata": {
        "id": "37909c69"
      },
      "source": [
        "## 6. Cross-Encoder Re-Ranking"
      ]
    },
    {
      "cell_type": "code",
      "execution_count": 34,
      "id": "1bb7f7fb",
      "metadata": {
        "colab": {
          "base_uri": "https://localhost:8080/"
        },
        "id": "1bb7f7fb",
        "outputId": "29723957-5500-4f74-a057-7937d12ff340"
      },
      "outputs": [
        {
          "output_type": "stream",
          "name": "stderr",
          "text": [
            "Some weights of BertForSequenceClassification were not initialized from the model checkpoint at bert-base-uncased and are newly initialized: ['classifier.bias', 'classifier.weight']\n",
            "You should probably TRAIN this model on a down-stream task to be able to use it for predictions and inference.\n"
          ]
        }
      ],
      "source": [
        "# 6.1 Prepare data for fine-tuning\n",
        "# Format: question \\t passage_text \\t label (1 or 0)\n",
        "# TODO: generate positives and negatives from train_q\n",
        "\n",
        "# 6.2 Fine-tune cross-encoder\n",
        "model_name = 'bert-base-uncased'\n",
        "tokenizer = AutoTokenizer.from_pretrained(model_name)\n",
        "model = AutoModelForSequenceClassification.from_pretrained(model_name, num_labels=2)\n",
        "\n"
      ]
    },
    {
      "cell_type": "code",
      "source": [
        "sparse_results_test = {q:pl for q,pl in sparse_results.items() if test_q[\"english\"].str.contains(q).any()}\n",
        "dense_results_test = {q:pl for q,pl in dense_results.items() if test_q[\"english\"].str.contains(q).any()}"
      ],
      "metadata": {
        "colab": {
          "base_uri": "https://localhost:8080/"
        },
        "id": "ZpVSd8nkG4p1",
        "outputId": "efbbcf1b-18bc-43a9-e852-acb05a5e4855"
      },
      "execution_count": 35,
      "outputs": [
        {
          "output_type": "stream",
          "name": "stderr",
          "text": [
            "/tmp/ipython-input-35-146393211.py:1: UserWarning: This pattern is interpreted as a regular expression, and has match groups. To actually get the groups, use str.extract.\n",
            "  sparse_results_test = {q:pl for q,pl in sparse_results.items() if test_q[\"english\"].str.contains(q).any()}\n",
            "/tmp/ipython-input-35-146393211.py:2: UserWarning: This pattern is interpreted as a regular expression, and has match groups. To actually get the groups, use str.extract.\n",
            "  dense_results_test = {q:pl for q,pl in dense_results.items() if test_q[\"english\"].str.contains(q).any()}\n"
          ]
        }
      ],
      "id": "ZpVSd8nkG4p1"
    },
    {
      "cell_type": "code",
      "source": [
        "sparse_results_train = {q:pl for q,pl in sparse_results.items() if train_q[\"english\"].str.contains(q).any()}\n",
        "dense_results_train = {q:pl for q,pl in dense_results.items() if train_q[\"english\"].str.contains(q).any()}"
      ],
      "metadata": {
        "colab": {
          "base_uri": "https://localhost:8080/"
        },
        "id": "yOloZPI6G4p1",
        "outputId": "cd5d56d9-284f-48b3-a599-b004d0b52992"
      },
      "execution_count": 36,
      "outputs": [
        {
          "output_type": "stream",
          "name": "stderr",
          "text": [
            "/tmp/ipython-input-36-366074852.py:1: UserWarning: This pattern is interpreted as a regular expression, and has match groups. To actually get the groups, use str.extract.\n",
            "  sparse_results_train = {q:pl for q,pl in sparse_results.items() if train_q[\"english\"].str.contains(q).any()}\n",
            "/tmp/ipython-input-36-366074852.py:2: UserWarning: This pattern is interpreted as a regular expression, and has match groups. To actually get the groups, use str.extract.\n",
            "  dense_results_train = {q:pl for q,pl in dense_results.items() if train_q[\"english\"].str.contains(q).any()}\n"
          ]
        }
      ],
      "id": "yOloZPI6G4p1"
    },
    {
      "cell_type": "code",
      "metadata": {
        "colab": {
          "base_uri": "https://localhost:8080/"
        },
        "outputId": "0cdb3cfe-65ef-4a24-8aed-cf742476fbd7",
        "id": "Yx97r119G4p1"
      },
      "source": [
        "from collections import defaultdict\n",
        "\n",
        "def prepare_cross_encoder_data(qa_dataframe, sparse_results, dense_results, qbc_dataframe, num_negatives=10):\n",
        "    \"\"\"\n",
        "    Prepares data for fine-tuning a cross-encoder model.\n",
        "\n",
        "    Args:\n",
        "        qa_dataframe (pd.DataFrame): DataFrame containing question-answer pairs\n",
        "                                     with columns 'english' (question) and 'answer' (passage_id).\n",
        "        sparse_results (dict): Dictionary of sparse retrieval results,\n",
        "                               keyed by question with a list of (passage_id, score) tuples.\n",
        "        dense_results (dict): Dictionary of dense retrieval results,\n",
        "                              keyed by question with a list of (passage_id, score) tuples.\n",
        "        qbc_dataframe (pd.DataFrame): DataFrame containing passage information\n",
        "                                      with columns 'passage_id' and 'text'.\n",
        "        num_negatives (int): The number of negative samples to generate per question.\n",
        "\n",
        "    Returns:\n",
        "        list: A list of dictionaries, each containing 'question', 'passage', and 'label'.\n",
        "    \"\"\"\n",
        "    training_data = []\n",
        "\n",
        "    # Group qa_dataframe by question to get all gold answers for each unique question\n",
        "    gold_answers_map = defaultdict(list)\n",
        "    for _, row in qa_dataframe.iterrows():\n",
        "        gold_answers_map[row['english']].append(row['answer'])\n",
        "\n",
        "    # Generate positive and negative examples for each unique question\n",
        "    for question, gold_passage_ids in gold_answers_map.items():\n",
        "        # Generate positive examples\n",
        "        for gold_passage_id in gold_passage_ids:\n",
        "            # Find the corresponding passage text\n",
        "            passage_row = qbc_dataframe.loc[qbc_dataframe['passage_id'] == gold_passage_id]\n",
        "            if not passage_row.empty:\n",
        "                passage_text = passage_row['text'].values[0]\n",
        "                training_data.append({'question': question, 'passage': passage_text, 'label': 1})\n",
        "            else:\n",
        "                print(f\"Warning: Gold Passage ID {gold_passage_id} not found in qbc_dataframe for question: {question}.\")\n",
        "\n",
        "        # Generate negative examples from sparse and dense retrieval candidates\n",
        "        sparse_candidates = [pid for pid, score in sparse_results.get(question, [])]\n",
        "        dense_candidates = [pid for pid, score in dense_results.get(question, [])]\n",
        "\n",
        "        # Combine candidates and remove the gold answers\n",
        "        all_candidates = list(set(sparse_candidates + dense_candidates))\n",
        "        negative_candidate_ids = [pid for pid in all_candidates if pid not in gold_passage_ids]\n",
        "\n",
        "        # Randomly sample some negative passages from these candidates\n",
        "        current_num_negatives = min(num_negatives, len(negative_candidate_ids))\n",
        "        if current_num_negatives > 0:\n",
        "            sampled_negative_ids = np.random.choice(negative_candidate_ids, current_num_negatives, replace=False)\n",
        "\n",
        "            for neg_pid in sampled_negative_ids:\n",
        "                passage_row = qbc_dataframe.loc[qbc_dataframe['passage_id'] == neg_pid]\n",
        "                if not passage_row.empty:\n",
        "                    neg_passage_text = passage_row['text'].values[0]\n",
        "                    training_data.append({'question': question, 'passage': neg_passage_text, 'label': 0})\n",
        "                else:\n",
        "                     print(f\"Warning: Negative Passage ID {neg_pid} not found in qbc_dataframe for question: {question}.\")\n",
        "\n",
        "\n",
        "    return training_data\n",
        "\n",
        "# training data:\n",
        "training_data = prepare_cross_encoder_data(train_q, sparse_results_train, dense_results_train, qbc)\n",
        "\n",
        "# test data :\n",
        "test_evaluation_data = prepare_cross_encoder_data(test_q, sparse_results_test, dense_results_test, qbc)"
      ],
      "execution_count": 37,
      "outputs": [
        {
          "output_type": "stream",
          "name": "stdout",
          "text": [
            "Warning: Gold Passage ID -1 not found in qbc_dataframe for question: What does 'Al‑Jathiyah' mean?.\n",
            "Warning: Gold Passage ID -1 not found in qbc_dataframe for question: Who was the Queen of Sheba?.\n",
            "Warning: Gold Passage ID -1 not found in qbc_dataframe for question: Where is the first Qibla of Muslims located?.\n",
            "Warning: Gold Passage ID -1 not found in qbc_dataframe for question: Where was Sūrat al‑ʿAlaq revealed?.\n",
            "Warning: Gold Passage ID -1 not found in qbc_dataframe for question: Where was the Torah revealed to Moses?.\n",
            "Warning: Gold Passage ID -1 not found in qbc_dataframe for question: How long did Prophet Nūḥ spend building the Ark?.\n",
            "Warning: Gold Passage ID -1 not found in qbc_dataframe for question: How long did Ayyūb’s trial last?.\n",
            "Warning: Gold Passage ID -1 not found in qbc_dataframe for question: Who fought Prophet Muḥammad in Mecca?.\n",
            "Warning: Gold Passage ID -1 not found in qbc_dataframe for question: Is memorising the Qur’an obligatory?.\n",
            "Warning: Gold Passage ID -1 not found in qbc_dataframe for question: Is tajwīd of the Qur’an obligatory?.\n",
            "Warning: Gold Passage ID -1 not found in qbc_dataframe for question: How can we reconcile the apparent contradiction between Muslim women participating in combat and prayer during the Prophet’s time and the command in Qur’an 33:33 for them to remain in their homes and avoid displaying adornment?.\n",
            "Warning: Gold Passage ID -1 not found in qbc_dataframe for question: Is there a relationship between brain regions and human abilities?.\n",
            "Warning: Gold Passage ID -1 not found in qbc_dataframe for question: Is there a difference between the intellect (ʿaql) and the brain?.\n",
            "Warning: Gold Passage ID -1 not found in qbc_dataframe for question: What are the health benefits of the dawn prayer?.\n",
            "Warning: Gold Passage ID -1 not found in qbc_dataframe for question: Is there a difference between individual and collective obligations?.\n",
            "Warning: Gold Passage ID -1 not found in qbc_dataframe for question: How can Prophet Muḥammad ﷺ be the first Muslim (Q 6:163; 40:12) when Prophet Abraham was described as a true Muslim before him (Q 3:67)?.\n",
            "Warning: Gold Passage ID -1 not found in qbc_dataframe for question: Do acts of ablution make even terrorists like ISIS fighters spiritually pure?.\n",
            "Warning: Gold Passage ID -1 not found in qbc_dataframe for question: If ablution were only for cleanliness, why repeat it after passing wind?.\n",
            "Warning: Gold Passage ID -1 not found in qbc_dataframe for question: Is the command for a believer to stand firm against ten enemies (Q 8:65) an unbearable obligation?.\n",
            "Warning: Gold Passage ID -1 not found in qbc_dataframe for question: Does Q 8:66 imply God was previously unaware of believers’ weakness?.\n",
            "Warning: Gold Passage ID -1 not found in qbc_dataframe for question: How to answer the claim that the Qur’an permits enslaving women?.\n",
            "Warning: Gold Passage ID -1 not found in qbc_dataframe for question: How to answer the claim that the Qur’an permits beating women?.\n",
            "Warning: Gold Passage ID -1 not found in qbc_dataframe for question: Why did the Qur’an impose jizyah on non‑Muslims?.\n",
            "Warning: Gold Passage ID -1 not found in qbc_dataframe for question: Islam allows freedom of belief in entering the faith (\"No compulsion in religion\"), so why is a Muslim not free to leave it?.\n",
            "Warning: Gold Passage ID -1 not found in qbc_dataframe for question: Is Prophet Muḥammad the greatest of the prophets?.\n",
            "Warning: Gold Passage ID -1 not found in qbc_dataframe for question: What is the difference between squandering and extravagance?.\n",
            "Warning: Gold Passage ID -1 not found in qbc_dataframe for question: What is the meaning of ‘qalb munīb’ (a returning heart)?.\n",
            "Warning: Gold Passage ID -1 not found in qbc_dataframe for question: Which Companion did the Prophet ﷺ tell in the cave: “Do not grieve; indeed God is with us”?.\n",
            "Warning: Gold Passage ID -1 not found in qbc_dataframe for question: What is the meaning of the word “awwāb” in the Qur’an?.\n",
            "Warning: Gold Passage ID -1 not found in qbc_dataframe for question: Where is Mount Jūdī located?.\n",
            "Warning: Gold Passage ID -1 not found in qbc_dataframe for question: Who are the ten promised Paradise?.\n"
          ]
        }
      ],
      "id": "Yx97r119G4p1"
    },
    {
      "cell_type": "code",
      "metadata": {
        "colab": {
          "base_uri": "https://localhost:8080/",
          "height": 81,
          "referenced_widgets": [
            "cc249ecfa62745ad93e61070e476ff77",
            "7dc293386f1a45d58a1a1c11436d953d",
            "92c5bd012b714dec92c17fc2b81be06a",
            "4f78a3997009450a804ae27804b43e00",
            "e004d202dc7b4740bac1f23c6ac3b4ee",
            "57c243c3995644c3ba46767fe50e2d0a",
            "20f19bd309b54eba803fcf47a09a7d75",
            "93ba547595ad4262934cdfb4fb842c5c",
            "daf97d3acfc54be38fda35a6ea12cde4",
            "9d72b8f591e742fa9d8bee996c5ac753",
            "e24ecfc59adf403bb6d4f3bef26b330a",
            "9a3d209f86e44d25a8cb81cbf268741c",
            "817d17e512c645b9bbc016ba25c57e34",
            "c5f89fb61bb048daa32892c4c25cdd96",
            "0b4d51212be048bc86b44f62bdac78a6",
            "4c370b79d0bf4d4f93d44a1aad713789",
            "4b520943f59b4068bf1913adcccf41db",
            "648834dd2cef43ce8824b64863adcbc6",
            "84be9fbd9cc24374b85ee11757cbada0",
            "3e5e092c1cb24867901b740de3e11c94",
            "e5f79fab36ae4947a69a8cf6ae476e41",
            "8612c1ad1d944288a2a7a58b332cfcd3"
          ]
        },
        "id": "aa83e4c7",
        "outputId": "a26434c6-b8e1-4d2d-e6ad-40e393245eb3"
      },
      "source": [
        "from datasets import Dataset\n",
        "\n",
        "# Function to tokenize the data\n",
        "def tokenize_function(examples):\n",
        "    # Tokenize the question and passage pairs\n",
        "    # The tokenizer expects lists of strings\n",
        "    return tokenizer(examples['question'], examples['passage'], padding=\"max_length\", truncation=True)\n",
        "\n",
        "# Convert list of dicts to Hugging Face Dataset objects\n",
        "train_dataset = Dataset.from_dict({'question': [x['question'] for x in training_data],\n",
        "                                   'passage': [x['passage'] for x in training_data],\n",
        "                                   'label': [x['label'] for x in training_data]})\n",
        "\n",
        "test_dataset = Dataset.from_dict({'question': [x['question'] for x in test_evaluation_data],\n",
        "                                  'passage': [x['passage'] for x in test_evaluation_data],\n",
        "                                  'label': [x['label'] for x in test_evaluation_data]})\n",
        "\n",
        "\n",
        "# Apply the tokenization function to the datasets\n",
        "tokenized_train_dataset = train_dataset.map(tokenize_function, batched=True)\n",
        "tokenized_test_dataset = test_dataset.map(tokenize_function, batched=True)\n",
        "\n",
        "# Set the format to PyTorch tensors\n",
        "tokenized_train_dataset.set_format(type='torch', columns=['input_ids', 'attention_mask', 'token_type_ids', 'label'])\n",
        "tokenized_test_dataset.set_format(type='torch', columns=['input_ids', 'attention_mask', 'token_type_ids', 'label'])"
      ],
      "execution_count": 38,
      "outputs": [
        {
          "output_type": "display_data",
          "data": {
            "text/plain": [
              "Map:   0%|          | 0/2941 [00:00<?, ? examples/s]"
            ],
            "application/vnd.jupyter.widget-view+json": {
              "version_major": 2,
              "version_minor": 0,
              "model_id": "cc249ecfa62745ad93e61070e476ff77"
            }
          },
          "metadata": {}
        },
        {
          "output_type": "display_data",
          "data": {
            "text/plain": [
              "Map:   0%|          | 0/309 [00:00<?, ? examples/s]"
            ],
            "application/vnd.jupyter.widget-view+json": {
              "version_major": 2,
              "version_minor": 0,
              "model_id": "9a3d209f86e44d25a8cb81cbf268741c"
            }
          },
          "metadata": {}
        }
      ],
      "id": "aa83e4c7"
    },
    {
      "cell_type": "code",
      "source": [
        "import os\n",
        "from transformers import TrainingArguments, Trainer\n",
        "from sklearn.metrics import accuracy_score, precision_score, recall_score, f1_score\n",
        "import numpy as np # Import numpy\n",
        "import torch # Import torch\n",
        "\n",
        "# Path where you want to save your checkpoints (change this to your desired Drive path)\n",
        "checkpoint_output_dir = \"/content/drive/MyDrive/IslamicEval/Model/cross_encoder_checkpoints\"\n",
        "\n",
        "# Ensure the directory exists\n",
        "os.makedirs(checkpoint_output_dir, exist_ok=True)\n",
        "\n",
        "# Find the latest checkpoint directory to resume from, if it exists\n",
        "latest_checkpoint = None\n",
        "if os.path.exists(checkpoint_output_dir):\n",
        "    checkpoints = [d for d in os.listdir(checkpoint_output_dir) if os.path.isdir(os.path.join(checkpoint_output_dir, d)) and d.startswith(\"checkpoint-\")]\n",
        "    if checkpoints:\n",
        "        # Sort by checkpoint number to find the latest\n",
        "        checkpoints.sort(key=lambda x: int(x.split('-')[1]))\n",
        "        latest_checkpoint_path = os.path.join(checkpoint_output_dir, checkpoints[-1])\n",
        "        print(f\"Found latest checkpoint: {latest_checkpoint_path}\")\n",
        "        # When resuming, you pass the *path* to the checkpoint directory\n",
        "        latest_checkpoint = latest_checkpoint_path\n",
        "    else:\n",
        "        print(\"No checkpoints found, starting training from scratch.\")\n",
        "else:\n",
        "    print(\"Checkpoint directory does not exist, starting training from scratch.\")\n",
        "\n",
        "\n",
        "# Define training arguments with saving enabled and evaluation strategy\n",
        "training_args = TrainingArguments(\n",
        "    output_dir=checkpoint_output_dir, # Use the checkpoint directory as output\n",
        "    num_train_epochs=10,             # Total number of training epochs\n",
        "    per_device_train_batch_size=24,  # Batch size\n",
        "    warmup_steps=500,                # Warmup steps\n",
        "    weight_decay=0.01,               # Weight decay\n",
        "    logging_dir='./logs',            # Logging directory\n",
        "    logging_steps=10,\n",
        "    eval_strategy=\"epoch\",        # Evaluate at the end of each epoch\n",
        "    save_strategy=\"epoch\",           # Save at the end of each epoch\n",
        "    save_steps=10,                   # Save every 10 epoch\n",
        "    save_total_limit=2,              # Keep only the 3 most recent checkpoints\n",
        "    load_best_model_at_end=True, # Load the best model based on evaluation metric\n",
        "    metric_for_best_model=\"precision\", # Metric to monitor for best model\n",
        "    # remove_unused_columns=False, # Add if needed to prevent issues with dataset columns\n",
        ")\n",
        "\n",
        "# Function to compute metrics (moved here to be in the same cell for clarity)\n",
        "def compute_metrics(p):\n",
        "    \"\"\"Computes accuracy, precision, recall, and f1 for a sequence classification model.\"\"\"\n",
        "    preds = np.argmax(p.predictions, axis=1)\n",
        "    # Assuming binary classification where label 1 is the positive class\n",
        "    precision = precision_score(p.label_ids, preds, average='binary', zero_division=0)\n",
        "    recall = recall_score(p.label_ids, preds, average='binary', zero_division=0)\n",
        "    f1 = f1_score(p.label_ids, preds, average='binary', zero_division=0)\n",
        "    accuracy = accuracy_score(p.label_ids, preds)\n",
        "    return {\"accuracy\": accuracy, \"precision\": precision, \"recall\": recall, \"f1\": f1}\n",
        "\n",
        "\n",
        "trainer = Trainer(\n",
        "    model=model,\n",
        "    args=training_args,\n",
        "    train_dataset=tokenized_train_dataset, # Use tokenized dataset\n",
        "    eval_dataset=tokenized_test_dataset, # Use tokenized dataset\n",
        "    compute_metrics=compute_metrics # Add compute_metrics function\n",
        ")\n",
        "\n",
        "# Start or resume training\n",
        "trainer.train(resume_from_checkpoint=latest_checkpoint)\n",
        "\n",
        "# After training is complete (or resumed), you can save the final model weights separately if desired\n",
        "# trainer.save_model(\"/content/drive/MyDrive/IslamicEval/Model/cross_encoder_final_model\")"
      ],
      "metadata": {
        "colab": {
          "base_uri": "https://localhost:8080/",
          "height": 443
        },
        "id": "Ae6DVAt6HbDt",
        "outputId": "5f6b5ec6-b683-4e18-8bad-d0db39f7cf48"
      },
      "id": "Ae6DVAt6HbDt",
      "execution_count": 41,
      "outputs": [
        {
          "output_type": "stream",
          "name": "stdout",
          "text": [
            "No checkpoints found, starting training from scratch.\n"
          ]
        },
        {
          "output_type": "display_data",
          "data": {
            "text/plain": [
              "<IPython.core.display.HTML object>"
            ],
            "text/html": [
              "\n",
              "    <div>\n",
              "      \n",
              "      <progress value='1230' max='1230' style='width:300px; height:20px; vertical-align: middle;'></progress>\n",
              "      [1230/1230 52:48, Epoch 10/10]\n",
              "    </div>\n",
              "    <table border=\"1\" class=\"dataframe\">\n",
              "  <thead>\n",
              " <tr style=\"text-align: left;\">\n",
              "      <th>Epoch</th>\n",
              "      <th>Training Loss</th>\n",
              "      <th>Validation Loss</th>\n",
              "      <th>Accuracy</th>\n",
              "      <th>Precision</th>\n",
              "      <th>Recall</th>\n",
              "      <th>F1</th>\n",
              "    </tr>\n",
              "  </thead>\n",
              "  <tbody>\n",
              "    <tr>\n",
              "      <td>1</td>\n",
              "      <td>0.305000</td>\n",
              "      <td>0.412375</td>\n",
              "      <td>0.802589</td>\n",
              "      <td>0.710145</td>\n",
              "      <td>0.823529</td>\n",
              "      <td>0.762646</td>\n",
              "    </tr>\n",
              "    <tr>\n",
              "      <td>2</td>\n",
              "      <td>0.374000</td>\n",
              "      <td>0.381880</td>\n",
              "      <td>0.802589</td>\n",
              "      <td>0.733871</td>\n",
              "      <td>0.764706</td>\n",
              "      <td>0.748971</td>\n",
              "    </tr>\n",
              "    <tr>\n",
              "      <td>3</td>\n",
              "      <td>0.264200</td>\n",
              "      <td>0.500519</td>\n",
              "      <td>0.799353</td>\n",
              "      <td>0.771429</td>\n",
              "      <td>0.680672</td>\n",
              "      <td>0.723214</td>\n",
              "    </tr>\n",
              "    <tr>\n",
              "      <td>4</td>\n",
              "      <td>0.335400</td>\n",
              "      <td>0.515802</td>\n",
              "      <td>0.741100</td>\n",
              "      <td>0.653543</td>\n",
              "      <td>0.697479</td>\n",
              "      <td>0.674797</td>\n",
              "    </tr>\n",
              "    <tr>\n",
              "      <td>5</td>\n",
              "      <td>0.214700</td>\n",
              "      <td>0.602734</td>\n",
              "      <td>0.766990</td>\n",
              "      <td>0.737374</td>\n",
              "      <td>0.613445</td>\n",
              "      <td>0.669725</td>\n",
              "    </tr>\n",
              "    <tr>\n",
              "      <td>6</td>\n",
              "      <td>0.175400</td>\n",
              "      <td>0.513578</td>\n",
              "      <td>0.802589</td>\n",
              "      <td>0.719697</td>\n",
              "      <td>0.798319</td>\n",
              "      <td>0.756972</td>\n",
              "    </tr>\n",
              "    <tr>\n",
              "      <td>7</td>\n",
              "      <td>0.105500</td>\n",
              "      <td>0.905836</td>\n",
              "      <td>0.773463</td>\n",
              "      <td>0.769231</td>\n",
              "      <td>0.588235</td>\n",
              "      <td>0.666667</td>\n",
              "    </tr>\n",
              "    <tr>\n",
              "      <td>8</td>\n",
              "      <td>0.016200</td>\n",
              "      <td>1.152198</td>\n",
              "      <td>0.786408</td>\n",
              "      <td>0.757282</td>\n",
              "      <td>0.655462</td>\n",
              "      <td>0.702703</td>\n",
              "    </tr>\n",
              "    <tr>\n",
              "      <td>9</td>\n",
              "      <td>0.016900</td>\n",
              "      <td>1.309858</td>\n",
              "      <td>0.770227</td>\n",
              "      <td>0.750000</td>\n",
              "      <td>0.605042</td>\n",
              "      <td>0.669767</td>\n",
              "    </tr>\n",
              "    <tr>\n",
              "      <td>10</td>\n",
              "      <td>0.001000</td>\n",
              "      <td>1.363085</td>\n",
              "      <td>0.773463</td>\n",
              "      <td>0.757895</td>\n",
              "      <td>0.605042</td>\n",
              "      <td>0.672897</td>\n",
              "    </tr>\n",
              "  </tbody>\n",
              "</table><p>"
            ]
          },
          "metadata": {}
        },
        {
          "output_type": "execute_result",
          "data": {
            "text/plain": [
              "TrainOutput(global_step=1230, training_loss=0.17381059158767567, metrics={'train_runtime': 3171.2068, 'train_samples_per_second': 9.274, 'train_steps_per_second': 0.388, 'total_flos': 7738096138137600.0, 'train_loss': 0.17381059158767567, 'epoch': 10.0})"
            ]
          },
          "metadata": {},
          "execution_count": 41
        }
      ]
    },
    {
      "cell_type": "code",
      "source": [
        "# Save the fine-tuned model\n",
        "output_dir = \"/content/drive/MyDrive/IslamicEval/Model/cross_encoder_finetuned\"\n",
        "trainer.save_model(output_dir)\n",
        "tokenizer.save_pretrained(output_dir)\n",
        "\n",
        "print(f\"Model saved to {output_dir}\")"
      ],
      "metadata": {
        "id": "WPbjzrphXr7c",
        "colab": {
          "base_uri": "https://localhost:8080/"
        },
        "outputId": "cd77185b-f458-4230-ab7c-83873cf15508"
      },
      "id": "WPbjzrphXr7c",
      "execution_count": 42,
      "outputs": [
        {
          "output_type": "stream",
          "name": "stdout",
          "text": [
            "Model saved to /content/drive/MyDrive/IslamicEval/Model/cross_encoder_finetuned\n"
          ]
        }
      ]
    },
    {
      "cell_type": "code",
      "source": [
        "# 6.3 Re-rank retrieval results\n",
        "def cross_encode_rerank(query, candidates, top_k=10):\n",
        "    # candidates is a list of (passage_id, score)\n",
        "    # Get the passage text for each candidate\n",
        "    candidate_passages = []\n",
        "    candidate_ids = [cid for cid, _ in candidates]\n",
        "\n",
        "    for cid in candidate_ids:\n",
        "        passage_row = qbc.loc[qbc['passage_id'] == cid]\n",
        "        if not passage_row.empty:\n",
        "            candidate_passages.append(passage_row['text'].values[0])\n",
        "        else:\n",
        "            candidate_passages.append(\"\") # Handle missing passage text\n",
        "\n",
        "    # Create pairs for the cross-encoder\n",
        "    features = tokenizer([query] * len(candidate_passages), candidate_passages,  padding=True, truncation=True, return_tensors=\"pt\")\n",
        "\n",
        "    # Move tensors to the same device as the model\n",
        "    features = {k: v.to(model.device) for k, v in features.items()}\n",
        "\n",
        "\n",
        "    # Get scores from the cross-encoder\n",
        "    with torch.no_grad():\n",
        "        outputs = model(**features)\n",
        "        # The output is logits, usually the second logit corresponds to the positive class (label=1)\n",
        "        scores = outputs.logits[:, 1].cpu().numpy()\n",
        "\n",
        "    # Pair candidate IDs with their new scores and sort\n",
        "    reranked_results = sorted(zip(candidate_ids, scores), key=lambda x: x[1], reverse=True)\n",
        "\n",
        "    return reranked_results[:top_k]\n",
        "\n",
        "import torch # Ensure torch is imported for model device\n",
        "# Load the model for reranking\n",
        "model_path = \"/content/drive/MyDrive/IslamicEval/Model/cross_encoder_finetuned\"\n",
        "tokenizer = AutoTokenizer.from_pretrained(model_path)\n",
        "model = AutoModelForSequenceClassification.from_pretrained(model_path)\n",
        "\n",
        "# Move model to GPU if available\n",
        "device = torch.device(\"cuda\" if torch.cuda.is_available() else \"cpu\")\n",
        "model.to(device)\n",
        "model.eval() # Set model to evaluation mode\n"
      ],
      "metadata": {
        "colab": {
          "base_uri": "https://localhost:8080/"
        },
        "collapsed": true,
        "id": "9YTcfdQwXP45",
        "outputId": "806dd559-fc99-476f-86fc-6d37dc5e5e04"
      },
      "id": "9YTcfdQwXP45",
      "execution_count": 43,
      "outputs": [
        {
          "output_type": "execute_result",
          "data": {
            "text/plain": [
              "BertForSequenceClassification(\n",
              "  (bert): BertModel(\n",
              "    (embeddings): BertEmbeddings(\n",
              "      (word_embeddings): Embedding(30522, 768, padding_idx=0)\n",
              "      (position_embeddings): Embedding(512, 768)\n",
              "      (token_type_embeddings): Embedding(2, 768)\n",
              "      (LayerNorm): LayerNorm((768,), eps=1e-12, elementwise_affine=True)\n",
              "      (dropout): Dropout(p=0.1, inplace=False)\n",
              "    )\n",
              "    (encoder): BertEncoder(\n",
              "      (layer): ModuleList(\n",
              "        (0-11): 12 x BertLayer(\n",
              "          (attention): BertAttention(\n",
              "            (self): BertSdpaSelfAttention(\n",
              "              (query): Linear(in_features=768, out_features=768, bias=True)\n",
              "              (key): Linear(in_features=768, out_features=768, bias=True)\n",
              "              (value): Linear(in_features=768, out_features=768, bias=True)\n",
              "              (dropout): Dropout(p=0.1, inplace=False)\n",
              "            )\n",
              "            (output): BertSelfOutput(\n",
              "              (dense): Linear(in_features=768, out_features=768, bias=True)\n",
              "              (LayerNorm): LayerNorm((768,), eps=1e-12, elementwise_affine=True)\n",
              "              (dropout): Dropout(p=0.1, inplace=False)\n",
              "            )\n",
              "          )\n",
              "          (intermediate): BertIntermediate(\n",
              "            (dense): Linear(in_features=768, out_features=3072, bias=True)\n",
              "            (intermediate_act_fn): GELUActivation()\n",
              "          )\n",
              "          (output): BertOutput(\n",
              "            (dense): Linear(in_features=3072, out_features=768, bias=True)\n",
              "            (LayerNorm): LayerNorm((768,), eps=1e-12, elementwise_affine=True)\n",
              "            (dropout): Dropout(p=0.1, inplace=False)\n",
              "          )\n",
              "        )\n",
              "      )\n",
              "    )\n",
              "    (pooler): BertPooler(\n",
              "      (dense): Linear(in_features=768, out_features=768, bias=True)\n",
              "      (activation): Tanh()\n",
              "    )\n",
              "  )\n",
              "  (dropout): Dropout(p=0.1, inplace=False)\n",
              "  (classifier): Linear(in_features=768, out_features=2, bias=True)\n",
              ")"
            ]
          },
          "metadata": {},
          "execution_count": 43
        }
      ]
    },
    {
      "cell_type": "code",
      "source": [
        "# Example usage: Rerank the top 20 from the hybrid retrieval\n",
        "reranked_results = {}\n",
        "for q, candidates in hyprid_results.items():\n",
        "    reranked_results[q] = cross_encode_rerank(q, candidates, top_k=10) # Rerank top 100 to top 10"
      ],
      "metadata": {
        "id": "p4Hsunnrs_Vu"
      },
      "id": "p4Hsunnrs_Vu",
      "execution_count": null,
      "outputs": []
    },
    {
      "cell_type": "code",
      "source": [
        "\n",
        "\n",
        "# Evaluate reranked results\n",
        "print(\"\\nReranked Recall@20:\", recall_at_k(reranked_results, gold_map, 20))\n",
        "print(\"Reranked Precision@5:\", precision_at_k(reranked_results, gold_map, 5))\n",
        "\n",
        "eval_df[\"recall_reranked\"] = pd.Series(({q: 1-(ranks.count(-1)/len(ranks)) for q, ranks in rank_positions(reranked_results, gold_map).items()}),name=\"recall_reranked\").reset_index(drop=True)\n"
      ],
      "metadata": {
        "colab": {
          "base_uri": "https://localhost:8080/"
        },
        "id": "cZ2L_Q_dSxvk",
        "outputId": "05a8ea7c-e50e-4f82-d270-454342042e8e"
      },
      "id": "cZ2L_Q_dSxvk",
      "execution_count": 47,
      "outputs": [
        {
          "output_type": "stream",
          "name": "stdout",
          "text": [
            "\n",
            "Reranked Recall@20: 0.4548637107122292\n",
            "Reranked Precision@5: 0.24952380952380984\n"
          ]
        }
      ]
    },
    {
      "cell_type": "code",
      "source": [
        "# 6.3 Re-rank retrieved passages\n",
        "# Apply the trained cross-encoder to re-rank the top_k passages from retrieval.\n",
        "\n",
        "def rerank_results(query, retrieved_passages, cross_encoder_tokenizer, cross_encoder_model):\n",
        "    \"\"\"\n",
        "    Reranks a list of retrieved passages for a given query using a cross-encoder.\n",
        "\n",
        "    Args:\n",
        "        query (str): The user query.\n",
        "        retrieved_passages (list): A list of (passage_id, score) tuples from a retriever.\n",
        "                                   The score is not used by the cross-encoder but kept for context.\n",
        "        cross_encoder_tokenizer: The tokenizer for the cross-encoder model.\n",
        "        cross_encoder_model: The trained cross-encoder model.\n",
        "\n",
        "    Returns:\n",
        "        list: A list of (passage_id, reranked_score) tuples, sorted by reranked_score.\n",
        "    \"\"\"\n",
        "    if not retrieved_passages:\n",
        "        return []\n",
        "\n",
        "    # Prepare input pairs for the cross-encoder: (query, passage_text)\n",
        "    # We need the actual passage text for each passage_id\n",
        "    passage_texts = []\n",
        "    passage_ids = []\n",
        "    for pid, _ in retrieved_passages:\n",
        "        passage_row = qbc.loc[qbc['passage_id'] == pid]\n",
        "        if not passage_row.empty:\n",
        "            passage_texts.append(passage_row['text'].values[0])\n",
        "            passage_ids.append(pid)\n",
        "        else:\n",
        "            print(f\"Warning: Passage ID {pid} not found in qbc_dataframe for re-ranking.\")\n",
        "            # Handle cases where passage might not be found (though it should be if from qbc)\n",
        "\n",
        "    # Prepare inputs for the cross-encoder\n",
        "    features = cross_encoder_tokenizer([query] * len(passage_texts), passage_texts,  padding=True, truncation=True, return_tensors=\"pt\")\n",
        "\n",
        "    # Move inputs to the same device as the model\n",
        "    features = {k: v.to(cross_encoder_model.device) for k, v in features.items()}\n",
        "\n",
        "    # Get model predictions (logits)\n",
        "    cross_encoder_model.eval() # Set model to evaluation mode\n",
        "    with torch.no_grad(): # Disable gradient calculation\n",
        "        outputs = cross_encoder_model(**features)\n",
        "\n",
        "    # Get scores (logits for the positive class - assuming binary classification)\n",
        "    # If your model outputs probabilities directly, adjust this.\n",
        "    # For sequence classification with num_labels=2, outputs.logits will have shape [batch_size, 2]\n",
        "    # We want the logit/score for the positive class (usually index 1)\n",
        "    reranked_scores = outputs.logits[:, 1].tolist()\n",
        "\n",
        "    # Combine passage_ids with their new scores\n",
        "    reranked_results = list(zip(passage_ids, reranked_scores))\n",
        "\n",
        "    # Sort by the new reranked scores in descending order\n",
        "    reranked_results.sort(key=lambda x: x[1], reverse=True)\n",
        "\n",
        "    return reranked_results\n",
        "\n",
        "import torch\n",
        "\n",
        "# Ensure the model is on a device (CPU or GPU)\n",
        "device = torch.device(\"cuda\" if torch.cuda.is_available() else \"cpu\")\n",
        "model.to(device)\n",
        "\n",
        "# Example of using the rerank function\n",
        "# Let's take a sample query and use the dense retrieval results as input\n",
        "sample_query = \"Who were the people of Shu'ayb?\"\n",
        "retrieved_candidates = hybrid_retrieve(sample_query)\n",
        "\n",
        "reranked_candidates = rerank_results(sample_query, retrieved_candidates, tokenizer, model)\n",
        "\n",
        "print(\"\\nOriginal Dense Results:\")\n",
        "print(retrieved_candidates)\n",
        "\n",
        "print(\"\\nReranked Results:\")\n",
        "print(reranked_candidates)\n",
        "\n",
        "\n",
        "# Apply reranking to the results for evaluation (e.g., test set results)\n",
        "# We need the sparse/dense/hybrid results specifically for the test questions\n",
        "# (assuming test_q contains the test questions)\n",
        "\n",
        "# First, filter the full sparse/dense/hybrid results to only include test questions\n",
        "test_question_set = set(test_q['english'].unique())\n",
        "\n",
        "sparse_results_test_eval = {q: results for q, results in sparse_results.items() if q in test_question_set}\n",
        "dense_results_test_eval = {q: results for q, results in dense_results.items() if q in test_question_set}\n",
        "hybrid_results_test_eval = {q: results for q, results in hyprid_results.items() if q in test_question_set}\n",
        "\n",
        "# Now apply reranking to these test results\n",
        "reranked_sparse_results = {}\n",
        "for q, results in sparse_results_test_eval.items():\n",
        "    reranked_sparse_results[q] = rerank_results(q, results, tokenizer, model)\n",
        "\n",
        "reranked_dense_results = {}\n",
        "for q, results in dense_results_test_eval.items():\n",
        "     reranked_dense_results[q] = rerank_results(q, results, tokenizer, model)\n",
        "\n",
        "reranked_hybrid_results = {}\n",
        "for q, results in hybrid_results_test_eval.items():\n",
        "     reranked_hybrid_results[q] = rerank_results(q, results, tokenizer, model)\n",
        "\n",
        "\n",
        "# Evaluate the reranked results using the same metrics (Recall@K, MRR)\n",
        "# For evaluation, we need the gold answers for the test questions.\n",
        "gold_map_test = group_gold_answers(test_q)\n",
        "\n",
        "\n",
        "print(\"\\nReranked Sparse Results Evaluation:\")\n",
        "print(\"Recall@20:\", recall_at_k(reranked_sparse_results, gold_map_test, 20))\n",
        "print(\"MRR:\", mrr(reranked_sparse_results, gold_map_test))\n",
        "\n",
        "print(\"\\nReranked Dense Results Evaluation:\")\n",
        "print(\"Recall@20:\", recall_at_k(reranked_dense_results, gold_map_test, 20))\n",
        "print(\"MRR:\", mrr(reranked_dense_results, gold_map_test))\n",
        "\n",
        "print(\"\\nReranked Hybrid Results Evaluation:\")\n",
        "print(\"Recall@20:\", recall_at_k(reranked_hybrid_results, gold_map_test, 20))\n",
        "print(\"MRR:\", mrr(reranked_hybrid_results, gold_map_test))\n",
        "\n",
        "# Optional: Update eval_df with reranked results' recall\n",
        "# Need to match test questions in eval_df. Assuming eval_df has all questions, filter it.\n",
        "eval_df_test = eval_df[eval_df['question'].isin(test_question_set)].copy()\n",
        "\n",
        "eval_df_test[\"recall_sparse_reranked\"] = pd.Series(({q: 1-(ranks.count(-1)/len(ranks)) for q, ranks in rank_positions(reranked_sparse_results, gold_map_test).items()}),name=\"recall_sparse_reranked\").reset_index(drop=True)\n",
        "eval_df_test[\"recall_dense_reranked\"] = pd.Series(({q: 1-(ranks.count(-1)/len(ranks)) for q, ranks in rank_positions(reranked_dense_results, gold_map_test).items()}),name=\"recall_dense_reranked\").reset_index(drop=True)\n",
        "eval_df_test[\"recall_hybrid_reranked\"] = pd.Series(({q: 1-(ranks.count(-1)/len(ranks)) for q, ranks in rank_positions(reranked_hybrid_results, gold_map_test).items()}),name=\"recall_hybrid_reranked\").reset_index(drop=True)\n",
        "\n",
        "print(\"\\nEvaluation DataFrame for Test Questions with Reranking:\")\n",
        "print(eval_df_test)\n"
      ],
      "metadata": {
        "colab": {
          "base_uri": "https://localhost:8080/",
          "height": 1000
        },
        "id": "XAFGLFdRPERr",
        "outputId": "c6bef870-586c-4dc2-8dbf-5813ce1fb10a"
      },
      "id": "XAFGLFdRPERr",
      "execution_count": null,
      "outputs": [
        {
          "output_type": "stream",
          "name": "stdout",
          "text": [
            "\n",
            "Original Dense Results:\n",
            "[('7:85-93', 0.6909956914041752), ('15:78-79', 0.4488935598973097), ('26:176-191', 0.3825999757315458), ('29:36-37', 0.35671561474191726), ('28:22-28', 0.30247801217127224), ('11:84-88', 0.27722150464051326), ('11:89-95', 0.275796739026336), ('50:12-15', 0.1811615584035765), ('22:42-46', 0.16306576519570418), ('38:12-16', 0.16298562581898224), ('15:78-79', 0.4009245038032532), ('50:12-15', 0.38162386417388916), ('21:74-75', 0.3635067343711853), ('69:9-12', 0.3556203246116638), ('38:12-16', 0.3279416561126709), ('34:15-19', 0.32347989082336426), ('37:123-132', 0.3219572901725769), ('72:1-7', 0.3219206929206848), ('7:109-112', 0.3206075429916382), ('2:243-245', 0.31730028986930847)]\n",
            "\n",
            "Reranked Results:\n",
            "[('34:15-19', 0.617436408996582), ('72:1-7', 0.23657628893852234), ('7:85-93', -0.2510208785533905), ('28:22-28', -0.26373717188835144), ('26:176-191', -0.2749198079109192), ('11:89-95', -0.2789953351020813), ('11:84-88', -0.2936299741268158), ('29:36-37', -0.3667735755443573), ('22:42-46', -0.36865565180778503), ('38:12-16', -0.3833778500556946), ('38:12-16', -0.3833778500556946), ('50:12-15', -0.40474221110343933), ('50:12-15', -0.40474221110343933), ('15:78-79', -0.4608481228351593), ('15:78-79', -0.4608481228351593), ('2:243-245', -1.026855707168579), ('21:74-75', -1.118902564048767), ('37:123-132', -1.143678069114685), ('69:9-12', -1.433784008026123), ('7:109-112', -1.4869829416275024)]\n",
            "\n",
            "Reranked Sparse Results Evaluation:\n",
            "Recall@20: 0.48371126228269085\n",
            "MRR: 0.012442150143763046\n",
            "\n",
            "Reranked Dense Results Evaluation:\n",
            "Recall@20: 0.4293272864701435\n",
            "MRR: 0.012116493674218633\n",
            "\n",
            "Reranked Hybrid Results Evaluation:\n",
            "Recall@20: 0.48371126228269085\n",
            "MRR: 0.012442150143763046\n",
            "\n",
            "Evaluation DataFrame for Test Questions with Reranking:\n",
            "                                              question  count_answers  \\\n",
            "9                       Who are the tribes (al‑Asbāṭ)?              1   \n",
            "15   Which prophet was taught the language of birds...              2   \n",
            "18   What is the waiting period (ʿiddah) for a divo...              3   \n",
            "30             Who are the defrauders (Al‑Muṭaffifīn)?              1   \n",
            "45   Who fashioned a calf from ornaments for the Ch...              2   \n",
            "60                    Did Prophet Moses live in Egypt?              2   \n",
            "73   What happened to Prophet Yūnus after the whale...              3   \n",
            "75                        Where is Mount Jūdī located?              1   \n",
            "84                                      What is jihād?             10   \n",
            "93               Who are the doers of good (muḥsinūn)?             30   \n",
            "126  What evidence indicates that the Messiah was n...              1   \n",
            "136     What is the purpose of ablution before prayer?              1   \n",
            "155  Does the Qur’an allude to oxygen deficiency at...              1   \n",
            "165                      Is Islam a religion of peace?             10   \n",
            "168  Do different Qur’anic readings prove it was al...              9   \n",
            "172  Did the Qur’an warn believers against taking P...              2   \n",
            "182  What does trustworthiness (amānah) include in ...             28   \n",
            "187  Will gold be lawful for men to wear in the Her...              3   \n",
            "196                 To what did God liken a backbiter?              1   \n",
            "199  What evidence shows that merely righteous peop...              9   \n",
            "207                 Who are the ten promised Paradise?              1   \n",
            "\n",
            "     recall_sparse  recall_dense  recall_hyprid  recall_reranked  \\\n",
            "9         1.000000      1.000000       1.000000         1.000000   \n",
            "15        0.500000      1.000000       0.500000         0.500000   \n",
            "18        1.000000      1.000000       1.000000         1.000000   \n",
            "30        1.000000      0.000000       1.000000         1.000000   \n",
            "45        1.000000      0.500000       1.000000         1.000000   \n",
            "60        1.000000      1.000000       1.000000         0.500000   \n",
            "73        1.000000      1.000000       1.000000         0.000000   \n",
            "75        0.000000      0.000000       0.000000         0.000000   \n",
            "84        0.000000      0.100000       0.000000         0.000000   \n",
            "93        0.100000      0.033333       0.100000         0.066667   \n",
            "126       1.000000      1.000000       1.000000         0.000000   \n",
            "136       1.000000      1.000000       1.000000         1.000000   \n",
            "155       0.000000      0.000000       0.000000         0.000000   \n",
            "165       0.300000      0.200000       0.300000         0.100000   \n",
            "168       0.111111      0.333333       0.111111         0.000000   \n",
            "172       0.000000      0.000000       0.000000         0.000000   \n",
            "182       0.035714      0.071429       0.035714         0.035714   \n",
            "187       1.000000      0.666667       1.000000         0.666667   \n",
            "196       0.000000      0.000000       0.000000         0.000000   \n",
            "199       0.111111      0.111111       0.111111         0.000000   \n",
            "207       0.000000      0.000000       0.000000         0.000000   \n",
            "\n",
            "     recall_sparse_reranked  recall_dense_reranked  recall_hybrid_reranked  \n",
            "9                       0.1               0.033333                     0.1  \n",
            "15                      0.0               0.000000                     0.0  \n",
            "18                      0.0               0.000000                     0.0  \n",
            "30                      NaN                    NaN                     NaN  \n",
            "45                      NaN                    NaN                     NaN  \n",
            "60                      NaN                    NaN                     NaN  \n",
            "73                      NaN                    NaN                     NaN  \n",
            "75                      NaN                    NaN                     NaN  \n",
            "84                      NaN                    NaN                     NaN  \n",
            "93                      NaN                    NaN                     NaN  \n",
            "126                     NaN                    NaN                     NaN  \n",
            "136                     NaN                    NaN                     NaN  \n",
            "155                     NaN                    NaN                     NaN  \n",
            "165                     NaN                    NaN                     NaN  \n",
            "168                     NaN                    NaN                     NaN  \n",
            "172                     NaN                    NaN                     NaN  \n",
            "182                     NaN                    NaN                     NaN  \n",
            "187                     NaN                    NaN                     NaN  \n",
            "196                     NaN                    NaN                     NaN  \n",
            "199                     NaN                    NaN                     NaN  \n",
            "207                     NaN                    NaN                     NaN  \n"
          ]
        },
        {
          "output_type": "display_data",
          "data": {
            "text/plain": [
              "<Figure size 640x480 with 1 Axes>"
            ],
            "image/png": "[encoded data removed]"
          },
          "metadata": {}
        },
        {
          "output_type": "display_data",
          "data": {
            "text/plain": [
              "<Figure size 640x480 with 1 Axes>"
            ],
            "image/png": "[encoded data removed]"
          },
          "metadata": {}
        },
        {
          "output_type": "error",
          "ename": "KeyError",
          "evalue": "'recall_hybrid'",
          "traceback": [
            "\u001b[0;31m---------------------------------------------------------------------------\u001b[0m",
            "\u001b[0;31mKeyError\u001b[0m                                  Traceback (most recent call last)",
            "\u001b[0;32m/usr/local/lib/python3.11/dist-packages/pandas/core/indexes/base.py\u001b[0m in \u001b[0;36mget_loc\u001b[0;34m(self, key)\u001b[0m\n\u001b[1;32m   3804\u001b[0m         \u001b[0;32mtry\u001b[0m\u001b[0;34m:\u001b[0m\u001b[0;34m\u001b[0m\u001b[0;34m\u001b[0m\u001b[0m\n\u001b[0;32m-> 3805\u001b[0;31m             \u001b[0;32mreturn\u001b[0m \u001b[0mself\u001b[0m\u001b[0;34m.\u001b[0m\u001b[0m_engine\u001b[0m\u001b[0;34m.\u001b[0m\u001b[0mget_loc\u001b[0m\u001b[0;34m(\u001b[0m\u001b[0mcasted_key\u001b[0m\u001b[0;34m)\u001b[0m\u001b[0;34m\u001b[0m\u001b[0;34m\u001b[0m\u001b[0m\n\u001b[0m\u001b[1;32m   3806\u001b[0m         \u001b[0;32mexcept\u001b[0m \u001b[0mKeyError\u001b[0m \u001b[0;32mas\u001b[0m \u001b[0merr\u001b[0m\u001b[0;34m:\u001b[0m\u001b[0;34m\u001b[0m\u001b[0;34m\u001b[0m\u001b[0m\n",
            "\u001b[0;32mindex.pyx\u001b[0m in \u001b[0;36mpandas._libs.index.IndexEngine.get_loc\u001b[0;34m()\u001b[0m\n",
            "\u001b[0;32mindex.pyx\u001b[0m in \u001b[0;36mpandas._libs.index.IndexEngine.get_loc\u001b[0;34m()\u001b[0m\n",
            "\u001b[0;32mpandas/_libs/hashtable_class_helper.pxi\u001b[0m in \u001b[0;36mpandas._libs.hashtable.PyObjectHashTable.get_item\u001b[0;34m()\u001b[0m\n",
            "\u001b[0;32mpandas/_libs/hashtable_class_helper.pxi\u001b[0m in \u001b[0;36mpandas._libs.hashtable.PyObjectHashTable.get_item\u001b[0;34m()\u001b[0m\n",
            "\u001b[0;31mKeyError\u001b[0m: 'recall_hybrid'",
            "\nThe above exception was the direct cause of the following exception:\n",
            "\u001b[0;31mKeyError\u001b[0m                                  Traceback (most recent call last)",
            "\u001b[0;32m/tmp/ipython-input-85-1230613851.py\u001b[0m in \u001b[0;36m<cell line: 0>\u001b[0;34m()\u001b[0m\n\u001b[1;32m    140\u001b[0m     \u001b[0mplt\u001b[0m\u001b[0;34m.\u001b[0m\u001b[0mshow\u001b[0m\u001b[0;34m(\u001b[0m\u001b[0;34m)\u001b[0m\u001b[0;34m\u001b[0m\u001b[0;34m\u001b[0m\u001b[0m\n\u001b[1;32m    141\u001b[0m \u001b[0;34m\u001b[0m\u001b[0m\n\u001b[0;32m--> 142\u001b[0;31m     \u001b[0meval_df_test\u001b[0m\u001b[0;34m.\u001b[0m\u001b[0mplot\u001b[0m\u001b[0;34m(\u001b[0m\u001b[0mkind\u001b[0m\u001b[0;34m=\u001b[0m\u001b[0;34m'scatter'\u001b[0m\u001b[0;34m,\u001b[0m \u001b[0mx\u001b[0m\u001b[0;34m=\u001b[0m\u001b[0;34m'recall_hybrid'\u001b[0m\u001b[0;34m,\u001b[0m \u001b[0my\u001b[0m\u001b[0;34m=\u001b[0m\u001b[0;34m'recall_hybrid_reranked'\u001b[0m\u001b[0;34m,\u001b[0m \u001b[0ms\u001b[0m\u001b[0;34m=\u001b[0m\u001b[0;36m32\u001b[0m\u001b[0;34m,\u001b[0m \u001b[0malpha\u001b[0m\u001b[0;34m=\u001b[0m\u001b[0;36m.8\u001b[0m\u001b[0;34m,\u001b[0m \u001b[0mtitle\u001b[0m\u001b[0;34m=\u001b[0m\u001b[0;34m'Hybrid vs Reranked Hybrid Recall'\u001b[0m\u001b[0;34m)\u001b[0m\u001b[0;34m\u001b[0m\u001b[0;34m\u001b[0m\u001b[0m\n\u001b[0m\u001b[1;32m    143\u001b[0m     \u001b[0mplt\u001b[0m\u001b[0;34m.\u001b[0m\u001b[0mgca\u001b[0m\u001b[0;34m(\u001b[0m\u001b[0;34m)\u001b[0m\u001b[0;34m.\u001b[0m\u001b[0mspines\u001b[0m\u001b[0;34m[\u001b[0m\u001b[0;34m[\u001b[0m\u001b[0;34m'top'\u001b[0m\u001b[0;34m,\u001b[0m \u001b[0;34m'right'\u001b[0m\u001b[0;34m,\u001b[0m\u001b[0;34m]\u001b[0m\u001b[0;34m]\u001b[0m\u001b[0;34m.\u001b[0m\u001b[0mset_visible\u001b[0m\u001b[0;34m(\u001b[0m\u001b[0;32mFalse\u001b[0m\u001b[0;34m)\u001b[0m\u001b[0;34m\u001b[0m\u001b[0;34m\u001b[0m\u001b[0m\n\u001b[1;32m    144\u001b[0m     \u001b[0mplt\u001b[0m\u001b[0;34m.\u001b[0m\u001b[0mshow\u001b[0m\u001b[0;34m(\u001b[0m\u001b[0;34m)\u001b[0m\u001b[0;34m\u001b[0m\u001b[0;34m\u001b[0m\u001b[0m\n",
            "\u001b[0;32m/usr/local/lib/python3.11/dist-packages/pandas/plotting/_core.py\u001b[0m in \u001b[0;36m__call__\u001b[0;34m(self, *args, **kwargs)\u001b[0m\n\u001b[1;32m    973\u001b[0m         \u001b[0;32mif\u001b[0m \u001b[0mkind\u001b[0m \u001b[0;32min\u001b[0m \u001b[0mself\u001b[0m\u001b[0;34m.\u001b[0m\u001b[0m_dataframe_kinds\u001b[0m\u001b[0;34m:\u001b[0m\u001b[0;34m\u001b[0m\u001b[0;34m\u001b[0m\u001b[0m\n\u001b[1;32m    974\u001b[0m             \u001b[0;32mif\u001b[0m \u001b[0misinstance\u001b[0m\u001b[0;34m(\u001b[0m\u001b[0mdata\u001b[0m\u001b[0;34m,\u001b[0m \u001b[0mABCDataFrame\u001b[0m\u001b[0;34m)\u001b[0m\u001b[0;34m:\u001b[0m\u001b[0;34m\u001b[0m\u001b[0;34m\u001b[0m\u001b[0m\n\u001b[0;32m--> 975\u001b[0;31m                 \u001b[0;32mreturn\u001b[0m \u001b[0mplot_backend\u001b[0m\u001b[0;34m.\u001b[0m\u001b[0mplot\u001b[0m\u001b[0;34m(\u001b[0m\u001b[0mdata\u001b[0m\u001b[0;34m,\u001b[0m \u001b[0mx\u001b[0m\u001b[0;34m=\u001b[0m\u001b[0mx\u001b[0m\u001b[0;34m,\u001b[0m \u001b[0my\u001b[0m\u001b[0;34m=\u001b[0m\u001b[0my\u001b[0m\u001b[0;34m,\u001b[0m \u001b[0mkind\u001b[0m\u001b[0;34m=\u001b[0m\u001b[0mkind\u001b[0m\u001b[0;34m,\u001b[0m \u001b[0;34m**\u001b[0m\u001b[0mkwargs\u001b[0m\u001b[0;34m)\u001b[0m\u001b[0;34m\u001b[0m\u001b[0;34m\u001b[0m\u001b[0m\n\u001b[0m\u001b[1;32m    976\u001b[0m             \u001b[0;32melse\u001b[0m\u001b[0;34m:\u001b[0m\u001b[0;34m\u001b[0m\u001b[0;34m\u001b[0m\u001b[0m\n\u001b[1;32m    977\u001b[0m                 \u001b[0;32mraise\u001b[0m \u001b[0mValueError\u001b[0m\u001b[0;34m(\u001b[0m\u001b[0;34mf\"plot kind {kind} can only be used for data frames\"\u001b[0m\u001b[0;34m)\u001b[0m\u001b[0;34m\u001b[0m\u001b[0;34m\u001b[0m\u001b[0m\n",
            "\u001b[0;32m/usr/local/lib/python3.11/dist-packages/pandas/plotting/_matplotlib/__init__.py\u001b[0m in \u001b[0;36mplot\u001b[0;34m(data, kind, **kwargs)\u001b[0m\n\u001b[1;32m     69\u001b[0m             \u001b[0mkwargs\u001b[0m\u001b[0;34m[\u001b[0m\u001b[0;34m\"ax\"\u001b[0m\u001b[0;34m]\u001b[0m \u001b[0;34m=\u001b[0m \u001b[0mgetattr\u001b[0m\u001b[0;34m(\u001b[0m\u001b[0max\u001b[0m\u001b[0;34m,\u001b[0m \u001b[0;34m\"left_ax\"\u001b[0m\u001b[0;34m,\u001b[0m \u001b[0max\u001b[0m\u001b[0;34m)\u001b[0m\u001b[0;34m\u001b[0m\u001b[0;34m\u001b[0m\u001b[0m\n\u001b[1;32m     70\u001b[0m     \u001b[0mplot_obj\u001b[0m \u001b[0;34m=\u001b[0m \u001b[0mPLOT_CLASSES\u001b[0m\u001b[0;34m[\u001b[0m\u001b[0mkind\u001b[0m\u001b[0;34m]\u001b[0m\u001b[0;34m(\u001b[0m\u001b[0mdata\u001b[0m\u001b[0;34m,\u001b[0m \u001b[0;34m**\u001b[0m\u001b[0mkwargs\u001b[0m\u001b[0;34m)\u001b[0m\u001b[0;34m\u001b[0m\u001b[0;34m\u001b[0m\u001b[0m\n\u001b[0;32m---> 71\u001b[0;31m     \u001b[0mplot_obj\u001b[0m\u001b[0;34m.\u001b[0m\u001b[0mgenerate\u001b[0m\u001b[0;34m(\u001b[0m\u001b[0;34m)\u001b[0m\u001b[0;34m\u001b[0m\u001b[0;34m\u001b[0m\u001b[0m\n\u001b[0m\u001b[1;32m     72\u001b[0m     \u001b[0mplot_obj\u001b[0m\u001b[0;34m.\u001b[0m\u001b[0mdraw\u001b[0m\u001b[0;34m(\u001b[0m\u001b[0;34m)\u001b[0m\u001b[0;34m\u001b[0m\u001b[0;34m\u001b[0m\u001b[0m\n\u001b[1;32m     73\u001b[0m     \u001b[0;32mreturn\u001b[0m \u001b[0mplot_obj\u001b[0m\u001b[0;34m.\u001b[0m\u001b[0mresult\u001b[0m\u001b[0;34m\u001b[0m\u001b[0;34m\u001b[0m\u001b[0m\n",
            "\u001b[0;32m/usr/local/lib/python3.11/dist-packages/pandas/plotting/_matplotlib/core.py\u001b[0m in \u001b[0;36mgenerate\u001b[0;34m(self)\u001b[0m\n\u001b[1;32m    499\u001b[0m         \u001b[0mself\u001b[0m\u001b[0;34m.\u001b[0m\u001b[0m_compute_plot_data\u001b[0m\u001b[0;34m(\u001b[0m\u001b[0;34m)\u001b[0m\u001b[0;34m\u001b[0m\u001b[0;34m\u001b[0m\u001b[0m\n\u001b[1;32m    500\u001b[0m         \u001b[0mfig\u001b[0m \u001b[0;34m=\u001b[0m \u001b[0mself\u001b[0m\u001b[0;34m.\u001b[0m\u001b[0mfig\u001b[0m\u001b[0;34m\u001b[0m\u001b[0;34m\u001b[0m\u001b[0m\n\u001b[0;32m--> 501\u001b[0;31m         \u001b[0mself\u001b[0m\u001b[0;34m.\u001b[0m\u001b[0m_make_plot\u001b[0m\u001b[0;34m(\u001b[0m\u001b[0mfig\u001b[0m\u001b[0;34m)\u001b[0m\u001b[0;34m\u001b[0m\u001b[0;34m\u001b[0m\u001b[0m\n\u001b[0m\u001b[1;32m    502\u001b[0m         \u001b[0mself\u001b[0m\u001b[0;34m.\u001b[0m\u001b[0m_add_table\u001b[0m\u001b[0;34m(\u001b[0m\u001b[0;34m)\u001b[0m\u001b[0;34m\u001b[0m\u001b[0;34m\u001b[0m\u001b[0m\n\u001b[1;32m    503\u001b[0m         \u001b[0mself\u001b[0m\u001b[0;34m.\u001b[0m\u001b[0m_make_legend\u001b[0m\u001b[0;34m(\u001b[0m\u001b[0;34m)\u001b[0m\u001b[0;34m\u001b[0m\u001b[0;34m\u001b[0m\u001b[0m\n",
            "\u001b[0;32m/usr/local/lib/python3.11/dist-packages/pandas/plotting/_matplotlib/core.py\u001b[0m in \u001b[0;36m_make_plot\u001b[0;34m(self, fig)\u001b[0m\n\u001b[1;32m   1344\u001b[0m             \u001b[0mlabel\u001b[0m \u001b[0;34m=\u001b[0m \u001b[0;32mNone\u001b[0m\u001b[0;34m\u001b[0m\u001b[0;34m\u001b[0m\u001b[0m\n\u001b[1;32m   1345\u001b[0m         scatter = ax.scatter(\n\u001b[0;32m-> 1346\u001b[0;31m             \u001b[0mdata\u001b[0m\u001b[0;34m[\u001b[0m\u001b[0mx\u001b[0m\u001b[0;34m]\u001b[0m\u001b[0;34m.\u001b[0m\u001b[0mvalues\u001b[0m\u001b[0;34m,\u001b[0m\u001b[0;34m\u001b[0m\u001b[0;34m\u001b[0m\u001b[0m\n\u001b[0m\u001b[1;32m   1347\u001b[0m             \u001b[0mdata\u001b[0m\u001b[0;34m[\u001b[0m\u001b[0my\u001b[0m\u001b[0;34m]\u001b[0m\u001b[0;34m.\u001b[0m\u001b[0mvalues\u001b[0m\u001b[0;34m,\u001b[0m\u001b[0;34m\u001b[0m\u001b[0;34m\u001b[0m\u001b[0m\n\u001b[1;32m   1348\u001b[0m             \u001b[0mc\u001b[0m\u001b[0;34m=\u001b[0m\u001b[0mc_values\u001b[0m\u001b[0;34m,\u001b[0m\u001b[0;34m\u001b[0m\u001b[0;34m\u001b[0m\u001b[0m\n",
            "\u001b[0;32m/usr/local/lib/python3.11/dist-packages/pandas/core/frame.py\u001b[0m in \u001b[0;36m__getitem__\u001b[0;34m(self, key)\u001b[0m\n\u001b[1;32m   4100\u001b[0m             \u001b[0;32mif\u001b[0m \u001b[0mself\u001b[0m\u001b[0;34m.\u001b[0m\u001b[0mcolumns\u001b[0m\u001b[0;34m.\u001b[0m\u001b[0mnlevels\u001b[0m \u001b[0;34m>\u001b[0m \u001b[0;36m1\u001b[0m\u001b[0;34m:\u001b[0m\u001b[0;34m\u001b[0m\u001b[0;34m\u001b[0m\u001b[0m\n\u001b[1;32m   4101\u001b[0m                 \u001b[0;32mreturn\u001b[0m \u001b[0mself\u001b[0m\u001b[0;34m.\u001b[0m\u001b[0m_getitem_multilevel\u001b[0m\u001b[0;34m(\u001b[0m\u001b[0mkey\u001b[0m\u001b[0;34m)\u001b[0m\u001b[0;34m\u001b[0m\u001b[0;34m\u001b[0m\u001b[0m\n\u001b[0;32m-> 4102\u001b[0;31m             \u001b[0mindexer\u001b[0m \u001b[0;34m=\u001b[0m \u001b[0mself\u001b[0m\u001b[0;34m.\u001b[0m\u001b[0mcolumns\u001b[0m\u001b[0;34m.\u001b[0m\u001b[0mget_loc\u001b[0m\u001b[0;34m(\u001b[0m\u001b[0mkey\u001b[0m\u001b[0;34m)\u001b[0m\u001b[0;34m\u001b[0m\u001b[0;34m\u001b[0m\u001b[0m\n\u001b[0m\u001b[1;32m   4103\u001b[0m             \u001b[0;32mif\u001b[0m \u001b[0mis_integer\u001b[0m\u001b[0;34m(\u001b[0m\u001b[0mindexer\u001b[0m\u001b[0;34m)\u001b[0m\u001b[0;34m:\u001b[0m\u001b[0;34m\u001b[0m\u001b[0;34m\u001b[0m\u001b[0m\n\u001b[1;32m   4104\u001b[0m                 \u001b[0mindexer\u001b[0m \u001b[0;34m=\u001b[0m \u001b[0;34m[\u001b[0m\u001b[0mindexer\u001b[0m\u001b[0;34m]\u001b[0m\u001b[0;34m\u001b[0m\u001b[0;34m\u001b[0m\u001b[0m\n",
            "\u001b[0;32m/usr/local/lib/python3.11/dist-packages/pandas/core/indexes/base.py\u001b[0m in \u001b[0;36mget_loc\u001b[0;34m(self, key)\u001b[0m\n\u001b[1;32m   3810\u001b[0m             ):\n\u001b[1;32m   3811\u001b[0m                 \u001b[0;32mraise\u001b[0m \u001b[0mInvalidIndexError\u001b[0m\u001b[0;34m(\u001b[0m\u001b[0mkey\u001b[0m\u001b[0;34m)\u001b[0m\u001b[0;34m\u001b[0m\u001b[0;34m\u001b[0m\u001b[0m\n\u001b[0;32m-> 3812\u001b[0;31m             \u001b[0;32mraise\u001b[0m \u001b[0mKeyError\u001b[0m\u001b[0;34m(\u001b[0m\u001b[0mkey\u001b[0m\u001b[0;34m)\u001b[0m \u001b[0;32mfrom\u001b[0m \u001b[0merr\u001b[0m\u001b[0;34m\u001b[0m\u001b[0;34m\u001b[0m\u001b[0m\n\u001b[0m\u001b[1;32m   3813\u001b[0m         \u001b[0;32mexcept\u001b[0m \u001b[0mTypeError\u001b[0m\u001b[0;34m:\u001b[0m\u001b[0;34m\u001b[0m\u001b[0;34m\u001b[0m\u001b[0m\n\u001b[1;32m   3814\u001b[0m             \u001b[0;31m# If we have a listlike key, _check_indexing_error will raise\u001b[0m\u001b[0;34m\u001b[0m\u001b[0;34m\u001b[0m\u001b[0m\n",
            "\u001b[0;31mKeyError\u001b[0m: 'recall_hybrid'"
          ]
        },
        {
          "output_type": "display_data",
          "data": {
            "text/plain": [
              "<Figure size 640x480 with 1 Axes>"
            ],
            "image/png": "[encoded data removed]"
          },
          "metadata": {}
        }
      ]
    },
    {
      "cell_type": "markdown",
      "id": "934b51f2",
      "metadata": {
        "id": "934b51f2"
      },
      "source": [
        "## 7. No-Answer Detection"
      ]
    },
    {
      "cell_type": "markdown",
      "id": "7d2f1016",
      "metadata": {
        "id": "7d2f1016"
      },
      "source": [
        "\n",
        "You can add a special `[NO_ANSWER]` label during fine-tuning or train a separate classifier on `(question, best_candidate)` pairs.\n"
      ]
    },
    {
      "cell_type": "markdown",
      "id": "9e9f3f3f",
      "metadata": {
        "id": "9e9f3f3f"
      },
      "source": [
        "## 8. Answer Selection & Formatting"
      ]
    },
    {
      "cell_type": "code",
      "execution_count": null,
      "id": "0a5049aa",
      "metadata": {
        "id": "0a5049aa"
      },
      "outputs": [],
      "source": [
        "def select_answer(question):\n",
        "    cands = hybrid_retrieve(question)\n",
        "    reranked = rerank(question, cands)\n",
        "    best_pid, best_score = reranked[0]\n",
        "    # TODO: apply no-answer threshold\n",
        "    meta = qbc.set_index('passage_id').loc[best_pid, ['surah_number','ayah_start','ayah_end']]\n",
        "    text = qbc.set_index('passage_id').loc[best_pid, 'text']\n",
        "    return {\n",
        "        'surah': int(meta['surah_number']),\n",
        "        'ayah_start': int(meta['ayah_start']),\n",
        "        'ayah_end': int(meta['ayah_end']),\n",
        "        'text': text,\n",
        "        'score': best_score\n",
        "    }\n"
      ]
    },
    {
      "cell_type": "markdown",
      "id": "1715fd1f",
      "metadata": {
        "id": "1715fd1f"
      },
      "source": [
        "## 9. Final Evaluation & Metrics"
      ]
    },
    {
      "cell_type": "code",
      "execution_count": null,
      "id": "4277f90a",
      "metadata": {
        "id": "4277f90a"
      },
      "outputs": [],
      "source": [
        "def evaluate(test_questions):\n",
        "    # test_questions: DataFrame with gold surah, ayah_start, ayah_end\n",
        "    preds, golds = [], []\n",
        "    for _, row in test_questions.iterrows():\n",
        "        out = select_answer(row['question'])\n",
        "        preds.append((out['surah'], out['ayah_start'], out['ayah_end']))\n",
        "        golds.append((row['surah_number'], row['ayah_start'], row['ayah_end']))\n",
        "    # Compute exact match\n",
        "    em = np.mean([p==g for p,g in zip(preds,golds)])\n",
        "    print(f\"Exact Match: {em:.3f}\")\n",
        "\n",
        "# Run evaluation on our test set\n",
        "# evaluate(test_q)\n"
      ]
    },
    {
      "cell_type": "code",
      "source": [],
      "metadata": {
        "id": "HdyG-ReQAAwP"
      },
      "id": "HdyG-ReQAAwP",
      "execution_count": null,
      "outputs": []
    },
    {
      "cell_type": "code",
      "metadata": {
        "id": "2b52647d"
      },
      "source": [],
      "id": "2b52647d",
      "execution_count": null,
      "outputs": []
    },
    {
      "cell_type": "code",
      "metadata": {
        "id": "c5399e25"
      },
      "source": [
        "# Example usage with your sparse results:\n",
        "# print(\"TF-IDF Precision@10:\", precision_at_k(sparse_results, gold_map, 10))\n",
        "\n",
        "# Example usage with your dense results:\n",
        "# print(\"Dense Precision@10:\", precision_at_k(dense_results, gold_map, 10))\n",
        "\n",
        "# Example usage with your hybrid results:\n",
        "# print(\"Hybrid Precision@10:\", precision_at_k(hyprid_results, gold_map, 10))\n",
        "\n",
        "# Example usage with your reranked results:\n",
        "# print(\"Reranked Precision@10:\", precision_at_k(reranked_results, gold_map, 10))"
      ],
      "id": "c5399e25",
      "execution_count": null,
      "outputs": []
    },
    {
      "cell_type": "code",
      "metadata": {
        "id": "3502d0c0"
      },
      "source": [],
      "id": "3502d0c0",
      "execution_count": null,
      "outputs": []
    },
    {
      "cell_type": "code",
      "metadata": {
        "id": "6189607c"
      },
      "source": [
        "!pip install numpy==1.26.4\n",
        "\n",
        "# Note: After running this cell, you need to restart your Colab runtime\n",
        "# (Runtime -> Restart runtime) and then re-run all cells from the beginning."
      ],
      "id": "6189607c",
      "execution_count": null,
      "outputs": []
    }
  ],
  "metadata": {
    "colab": {
      "provenance": [],
      "gpuType": "T4"
    },
    "language_info": {
      "name": "python"
    },
    "kernelspec": {
      "name": "python3",
      "display_name": "Python 3"
    },
    "widgets": {
      "application/vnd.jupyter.widget-state+json": {
        "d1fab4744c2d4901919e54154e516ced": {
          "model_module": "@jupyter-widgets/controls",
          "model_name": "HBoxModel",
          "model_module_version": "1.5.0",
          "state": {
            "_dom_classes": [],
            "_model_module": "@jupyter-widgets/controls",
            "_model_module_version": "1.5.0",
            "_model_name": "HBoxModel",
            "_view_count": null,
            "_view_module": "@jupyter-widgets/controls",
            "_view_module_version": "1.5.0",
            "_view_name": "HBoxView",
            "box_style": "",
            "children": [
              "IPY_MODEL_39d24991c5724bb3ae571b8380bc759d",
              "IPY_MODEL_88b259e4d22b461fb0754291bc76a8ec",
              "IPY_MODEL_bdba70da43574b70ad2e139406ce3e71"
            ],
            "layout": "IPY_MODEL_77a5f2d5b0244490979b86d9d9200151"
          }
        },
        "39d24991c5724bb3ae571b8380bc759d": {
          "model_module": "@jupyter-widgets/controls",
          "model_name": "HTMLModel",
          "model_module_version": "1.5.0",
          "state": {
            "_dom_classes": [],
            "_model_module": "@jupyter-widgets/controls",
            "_model_module_version": "1.5.0",
            "_model_name": "HTMLModel",
            "_view_count": null,
            "_view_module": "@jupyter-widgets/controls",
            "_view_module_version": "1.5.0",
            "_view_name": "HTMLView",
            "description": "",
            "description_tooltip": null,
            "layout": "IPY_MODEL_e678b1f3a3a246b5bbf4d3da2a2e777a",
            "placeholder": "​",
            "style": "IPY_MODEL_a069695d2a8a49d59277f9bc456be7db",
            "value": "Batches: 100%"
          }
        },
        "88b259e4d22b461fb0754291bc76a8ec": {
          "model_module": "@jupyter-widgets/controls",
          "model_name": "FloatProgressModel",
          "model_module_version": "1.5.0",
          "state": {
            "_dom_classes": [],
            "_model_module": "@jupyter-widgets/controls",
            "_model_module_version": "1.5.0",
            "_model_name": "FloatProgressModel",
            "_view_count": null,
            "_view_module": "@jupyter-widgets/controls",
            "_view_module_version": "1.5.0",
            "_view_name": "ProgressView",
            "bar_style": "success",
            "description": "",
            "description_tooltip": null,
            "layout": "IPY_MODEL_79439525a6f74ca1af6c38d4e27387da",
            "max": 40,
            "min": 0,
            "orientation": "horizontal",
            "style": "IPY_MODEL_6ebeb6c337934bdc9bc45bff95c0fc79",
            "value": 40
          }
        },
        "bdba70da43574b70ad2e139406ce3e71": {
          "model_module": "@jupyter-widgets/controls",
          "model_name": "HTMLModel",
          "model_module_version": "1.5.0",
          "state": {
            "_dom_classes": [],
            "_model_module": "@jupyter-widgets/controls",
            "_model_module_version": "1.5.0",
            "_model_name": "HTMLModel",
            "_view_count": null,
            "_view_module": "@jupyter-widgets/controls",
            "_view_module_version": "1.5.0",
            "_view_name": "HTMLView",
            "description": "",
            "description_tooltip": null,
            "layout": "IPY_MODEL_b65c6ded93174e96a1b4c7c808a5139c",
            "placeholder": "​",
            "style": "IPY_MODEL_4bf4f395c6564a07833f5949f3dbfb44",
            "value": " 40/40 [00:07&lt;00:00, 12.04it/s]"
          }
        },
        "77a5f2d5b0244490979b86d9d9200151": {
          "model_module": "@jupyter-widgets/base",
          "model_name": "LayoutModel",
          "model_module_version": "1.2.0",
          "state": {
            "_model_module": "@jupyter-widgets/base",
            "_model_module_version": "1.2.0",
            "_model_name": "LayoutModel",
            "_view_count": null,
            "_view_module": "@jupyter-widgets/base",
            "_view_module_version": "1.2.0",
            "_view_name": "LayoutView",
            "align_content": null,
            "align_items": null,
            "align_self": null,
            "border": null,
            "bottom": null,
            "display": null,
            "flex": null,
            "flex_flow": null,
            "grid_area": null,
            "grid_auto_columns": null,
            "grid_auto_flow": null,
            "grid_auto_rows": null,
            "grid_column": null,
            "grid_gap": null,
            "grid_row": null,
            "grid_template_areas": null,
            "grid_template_columns": null,
            "grid_template_rows": null,
            "height": null,
            "justify_content": null,
            "justify_items": null,
            "left": null,
            "margin": null,
            "max_height": null,
            "max_width": null,
            "min_height": null,
            "min_width": null,
            "object_fit": null,
            "object_position": null,
            "order": null,
            "overflow": null,
            "overflow_x": null,
            "overflow_y": null,
            "padding": null,
            "right": null,
            "top": null,
            "visibility": null,
            "width": null
          }
        },
        "e678b1f3a3a246b5bbf4d3da2a2e777a": {
          "model_module": "@jupyter-widgets/base",
          "model_name": "LayoutModel",
          "model_module_version": "1.2.0",
          "state": {
            "_model_module": "@jupyter-widgets/base",
            "_model_module_version": "1.2.0",
            "_model_name": "LayoutModel",
            "_view_count": null,
            "_view_module": "@jupyter-widgets/base",
            "_view_module_version": "1.2.0",
            "_view_name": "LayoutView",
            "align_content": null,
            "align_items": null,
            "align_self": null,
            "border": null,
            "bottom": null,
            "display": null,
            "flex": null,
            "flex_flow": null,
            "grid_area": null,
            "grid_auto_columns": null,
            "grid_auto_flow": null,
            "grid_auto_rows": null,
            "grid_column": null,
            "grid_gap": null,
            "grid_row": null,
            "grid_template_areas": null,
            "grid_template_columns": null,
            "grid_template_rows": null,
            "height": null,
            "justify_content": null,
            "justify_items": null,
            "left": null,
            "margin": null,
            "max_height": null,
            "max_width": null,
            "min_height": null,
            "min_width": null,
            "object_fit": null,
            "object_position": null,
            "order": null,
            "overflow": null,
            "overflow_x": null,
            "overflow_y": null,
            "padding": null,
            "right": null,
            "top": null,
            "visibility": null,
            "width": null
          }
        },
        "a069695d2a8a49d59277f9bc456be7db": {
          "model_module": "@jupyter-widgets/controls",
          "model_name": "DescriptionStyleModel",
          "model_module_version": "1.5.0",
          "state": {
            "_model_module": "@jupyter-widgets/controls",
            "_model_module_version": "1.5.0",
            "_model_name": "DescriptionStyleModel",
            "_view_count": null,
            "_view_module": "@jupyter-widgets/base",
            "_view_module_version": "1.2.0",
            "_view_name": "StyleView",
            "description_width": ""
          }
        },
        "79439525a6f74ca1af6c38d4e27387da": {
          "model_module": "@jupyter-widgets/base",
          "model_name": "LayoutModel",
          "model_module_version": "1.2.0",
          "state": {
            "_model_module": "@jupyter-widgets/base",
            "_model_module_version": "1.2.0",
            "_model_name": "LayoutModel",
            "_view_count": null,
            "_view_module": "@jupyter-widgets/base",
            "_view_module_version": "1.2.0",
            "_view_name": "LayoutView",
            "align_content": null,
            "align_items": null,
            "align_self": null,
            "border": null,
            "bottom": null,
            "display": null,
            "flex": null,
            "flex_flow": null,
            "grid_area": null,
            "grid_auto_columns": null,
            "grid_auto_flow": null,
            "grid_auto_rows": null,
            "grid_column": null,
            "grid_gap": null,
            "grid_row": null,
            "grid_template_areas": null,
            "grid_template_columns": null,
            "grid_template_rows": null,
            "height": null,
            "justify_content": null,
            "justify_items": null,
            "left": null,
            "margin": null,
            "max_height": null,
            "max_width": null,
            "min_height": null,
            "min_width": null,
            "object_fit": null,
            "object_position": null,
            "order": null,
            "overflow": null,
            "overflow_x": null,
            "overflow_y": null,
            "padding": null,
            "right": null,
            "top": null,
            "visibility": null,
            "width": null
          }
        },
        "6ebeb6c337934bdc9bc45bff95c0fc79": {
          "model_module": "@jupyter-widgets/controls",
          "model_name": "ProgressStyleModel",
          "model_module_version": "1.5.0",
          "state": {
            "_model_module": "@jupyter-widgets/controls",
            "_model_module_version": "1.5.0",
            "_model_name": "ProgressStyleModel",
            "_view_count": null,
            "_view_module": "@jupyter-widgets/base",
            "_view_module_version": "1.2.0",
            "_view_name": "StyleView",
            "bar_color": null,
            "description_width": ""
          }
        },
        "b65c6ded93174e96a1b4c7c808a5139c": {
          "model_module": "@jupyter-widgets/base",
          "model_name": "LayoutModel",
          "model_module_version": "1.2.0",
          "state": {
            "_model_module": "@jupyter-widgets/base",
            "_model_module_version": "1.2.0",
            "_model_name": "LayoutModel",
            "_view_count": null,
            "_view_module": "@jupyter-widgets/base",
            "_view_module_version": "1.2.0",
            "_view_name": "LayoutView",
            "align_content": null,
            "align_items": null,
            "align_self": null,
            "border": null,
            "bottom": null,
            "display": null,
            "flex": null,
            "flex_flow": null,
            "grid_area": null,
            "grid_auto_columns": null,
            "grid_auto_flow": null,
            "grid_auto_rows": null,
            "grid_column": null,
            "grid_gap": null,
            "grid_row": null,
            "grid_template_areas": null,
            "grid_template_columns": null,
            "grid_template_rows": null,
            "height": null,
            "justify_content": null,
            "justify_items": null,
            "left": null,
            "margin": null,
            "max_height": null,
            "max_width": null,
            "min_height": null,
            "min_width": null,
            "object_fit": null,
            "object_position": null,
            "order": null,
            "overflow": null,
            "overflow_x": null,
            "overflow_y": null,
            "padding": null,
            "right": null,
            "top": null,
            "visibility": null,
            "width": null
          }
        },
        "4bf4f395c6564a07833f5949f3dbfb44": {
          "model_module": "@jupyter-widgets/controls",
          "model_name": "DescriptionStyleModel",
          "model_module_version": "1.5.0",
          "state": {
            "_model_module": "@jupyter-widgets/controls",
            "_model_module_version": "1.5.0",
            "_model_name": "DescriptionStyleModel",
            "_view_count": null,
            "_view_module": "@jupyter-widgets/base",
            "_view_module_version": "1.2.0",
            "_view_name": "StyleView",
            "description_width": ""
          }
        },
        "cc249ecfa62745ad93e61070e476ff77": {
          "model_module": "@jupyter-widgets/controls",
          "model_name": "HBoxModel",
          "model_module_version": "1.5.0",
          "state": {
            "_dom_classes": [],
            "_model_module": "@jupyter-widgets/controls",
            "_model_module_version": "1.5.0",
            "_model_name": "HBoxModel",
            "_view_count": null,
            "_view_module": "@jupyter-widgets/controls",
            "_view_module_version": "1.5.0",
            "_view_name": "HBoxView",
            "box_style": "",
            "children": [
              "IPY_MODEL_7dc293386f1a45d58a1a1c11436d953d",
              "IPY_MODEL_92c5bd012b714dec92c17fc2b81be06a",
              "IPY_MODEL_4f78a3997009450a804ae27804b43e00"
            ],
            "layout": "IPY_MODEL_e004d202dc7b4740bac1f23c6ac3b4ee"
          }
        },
        "7dc293386f1a45d58a1a1c11436d953d": {
          "model_module": "@jupyter-widgets/controls",
          "model_name": "HTMLModel",
          "model_module_version": "1.5.0",
          "state": {
            "_dom_classes": [],
            "_model_module": "@jupyter-widgets/controls",
            "_model_module_version": "1.5.0",
            "_model_name": "HTMLModel",
            "_view_count": null,
            "_view_module": "@jupyter-widgets/controls",
            "_view_module_version": "1.5.0",
            "_view_name": "HTMLView",
            "description": "",
            "description_tooltip": null,
            "layout": "IPY_MODEL_57c243c3995644c3ba46767fe50e2d0a",
            "placeholder": "​",
            "style": "IPY_MODEL_20f19bd309b54eba803fcf47a09a7d75",
            "value": "Map: 100%"
          }
        },
        "92c5bd012b714dec92c17fc2b81be06a": {
          "model_module": "@jupyter-widgets/controls",
          "model_name": "FloatProgressModel",
          "model_module_version": "1.5.0",
          "state": {
            "_dom_classes": [],
            "_model_module": "@jupyter-widgets/controls",
            "_model_module_version": "1.5.0",
            "_model_name": "FloatProgressModel",
            "_view_count": null,
            "_view_module": "@jupyter-widgets/controls",
            "_view_module_version": "1.5.0",
            "_view_name": "ProgressView",
            "bar_style": "success",
            "description": "",
            "description_tooltip": null,
            "layout": "IPY_MODEL_93ba547595ad4262934cdfb4fb842c5c",
            "max": 2941,
            "min": 0,
            "orientation": "horizontal",
            "style": "IPY_MODEL_daf97d3acfc54be38fda35a6ea12cde4",
            "value": 2941
          }
        },
        "4f78a3997009450a804ae27804b43e00": {
          "model_module": "@jupyter-widgets/controls",
          "model_name": "HTMLModel",
          "model_module_version": "1.5.0",
          "state": {
            "_dom_classes": [],
            "_model_module": "@jupyter-widgets/controls",
            "_model_module_version": "1.5.0",
            "_model_name": "HTMLModel",
            "_view_count": null,
            "_view_module": "@jupyter-widgets/controls",
            "_view_module_version": "1.5.0",
            "_view_name": "HTMLView",
            "description": "",
            "description_tooltip": null,
            "layout": "IPY_MODEL_9d72b8f591e742fa9d8bee996c5ac753",
            "placeholder": "​",
            "style": "IPY_MODEL_e24ecfc59adf403bb6d4f3bef26b330a",
            "value": " 2941/2941 [00:17&lt;00:00, 171.28 examples/s]"
          }
        },
        "e004d202dc7b4740bac1f23c6ac3b4ee": {
          "model_module": "@jupyter-widgets/base",
          "model_name": "LayoutModel",
          "model_module_version": "1.2.0",
          "state": {
            "_model_module": "@jupyter-widgets/base",
            "_model_module_version": "1.2.0",
            "_model_name": "LayoutModel",
            "_view_count": null,
            "_view_module": "@jupyter-widgets/base",
            "_view_module_version": "1.2.0",
            "_view_name": "LayoutView",
            "align_content": null,
            "align_items": null,
            "align_self": null,
            "border": null,
            "bottom": null,
            "display": null,
            "flex": null,
            "flex_flow": null,
            "grid_area": null,
            "grid_auto_columns": null,
            "grid_auto_flow": null,
            "grid_auto_rows": null,
            "grid_column": null,
            "grid_gap": null,
            "grid_row": null,
            "grid_template_areas": null,
            "grid_template_columns": null,
            "grid_template_rows": null,
            "height": null,
            "justify_content": null,
            "justify_items": null,
            "left": null,
            "margin": null,
            "max_height": null,
            "max_width": null,
            "min_height": null,
            "min_width": null,
            "object_fit": null,
            "object_position": null,
            "order": null,
            "overflow": null,
            "overflow_x": null,
            "overflow_y": null,
            "padding": null,
            "right": null,
            "top": null,
            "visibility": null,
            "width": null
          }
        },
        "57c243c3995644c3ba46767fe50e2d0a": {
          "model_module": "@jupyter-widgets/base",
          "model_name": "LayoutModel",
          "model_module_version": "1.2.0",
          "state": {
            "_model_module": "@jupyter-widgets/base",
            "_model_module_version": "1.2.0",
            "_model_name": "LayoutModel",
            "_view_count": null,
            "_view_module": "@jupyter-widgets/base",
            "_view_module_version": "1.2.0",
            "_view_name": "LayoutView",
            "align_content": null,
            "align_items": null,
            "align_self": null,
            "border": null,
            "bottom": null,
            "display": null,
            "flex": null,
            "flex_flow": null,
            "grid_area": null,
            "grid_auto_columns": null,
            "grid_auto_flow": null,
            "grid_auto_rows": null,
            "grid_column": null,
            "grid_gap": null,
            "grid_row": null,
            "grid_template_areas": null,
            "grid_template_columns": null,
            "grid_template_rows": null,
            "height": null,
            "justify_content": null,
            "justify_items": null,
            "left": null,
            "margin": null,
            "max_height": null,
            "max_width": null,
            "min_height": null,
            "min_width": null,
            "object_fit": null,
            "object_position": null,
            "order": null,
            "overflow": null,
            "overflow_x": null,
            "overflow_y": null,
            "padding": null,
            "right": null,
            "top": null,
            "visibility": null,
            "width": null
          }
        },
        "20f19bd309b54eba803fcf47a09a7d75": {
          "model_module": "@jupyter-widgets/controls",
          "model_name": "DescriptionStyleModel",
          "model_module_version": "1.5.0",
          "state": {
            "_model_module": "@jupyter-widgets/controls",
            "_model_module_version": "1.5.0",
            "_model_name": "DescriptionStyleModel",
            "_view_count": null,
            "_view_module": "@jupyter-widgets/base",
            "_view_module_version": "1.2.0",
            "_view_name": "StyleView",
            "description_width": ""
          }
        },
        "93ba547595ad4262934cdfb4fb842c5c": {
          "model_module": "@jupyter-widgets/base",
          "model_name": "LayoutModel",
          "model_module_version": "1.2.0",
          "state": {
            "_model_module": "@jupyter-widgets/base",
            "_model_module_version": "1.2.0",
            "_model_name": "LayoutModel",
            "_view_count": null,
            "_view_module": "@jupyter-widgets/base",
            "_view_module_version": "1.2.0",
            "_view_name": "LayoutView",
            "align_content": null,
            "align_items": null,
            "align_self": null,
            "border": null,
            "bottom": null,
            "display": null,
            "flex": null,
            "flex_flow": null,
            "grid_area": null,
            "grid_auto_columns": null,
            "grid_auto_flow": null,
            "grid_auto_rows": null,
            "grid_column": null,
            "grid_gap": null,
            "grid_row": null,
            "grid_template_areas": null,
            "grid_template_columns": null,
            "grid_template_rows": null,
            "height": null,
            "justify_content": null,
            "justify_items": null,
            "left": null,
            "margin": null,
            "max_height": null,
            "max_width": null,
            "min_height": null,
            "min_width": null,
            "object_fit": null,
            "object_position": null,
            "order": null,
            "overflow": null,
            "overflow_x": null,
            "overflow_y": null,
            "padding": null,
            "right": null,
            "top": null,
            "visibility": null,
            "width": null
          }
        },
        "daf97d3acfc54be38fda35a6ea12cde4": {
          "model_module": "@jupyter-widgets/controls",
          "model_name": "ProgressStyleModel",
          "model_module_version": "1.5.0",
          "state": {
            "_model_module": "@jupyter-widgets/controls",
            "_model_module_version": "1.5.0",
            "_model_name": "ProgressStyleModel",
            "_view_count": null,
            "_view_module": "@jupyter-widgets/base",
            "_view_module_version": "1.2.0",
            "_view_name": "StyleView",
            "bar_color": null,
            "description_width": ""
          }
        },
        "9d72b8f591e742fa9d8bee996c5ac753": {
          "model_module": "@jupyter-widgets/base",
          "model_name": "LayoutModel",
          "model_module_version": "1.2.0",
          "state": {
            "_model_module": "@jupyter-widgets/base",
            "_model_module_version": "1.2.0",
            "_model_name": "LayoutModel",
            "_view_count": null,
            "_view_module": "@jupyter-widgets/base",
            "_view_module_version": "1.2.0",
            "_view_name": "LayoutView",
            "align_content": null,
            "align_items": null,
            "align_self": null,
            "border": null,
            "bottom": null,
            "display": null,
            "flex": null,
            "flex_flow": null,
            "grid_area": null,
            "grid_auto_columns": null,
            "grid_auto_flow": null,
            "grid_auto_rows": null,
            "grid_column": null,
            "grid_gap": null,
            "grid_row": null,
            "grid_template_areas": null,
            "grid_template_columns": null,
            "grid_template_rows": null,
            "height": null,
            "justify_content": null,
            "justify_items": null,
            "left": null,
            "margin": null,
            "max_height": null,
            "max_width": null,
            "min_height": null,
            "min_width": null,
            "object_fit": null,
            "object_position": null,
            "order": null,
            "overflow": null,
            "overflow_x": null,
            "overflow_y": null,
            "padding": null,
            "right": null,
            "top": null,
            "visibility": null,
            "width": null
          }
        },
        "e24ecfc59adf403bb6d4f3bef26b330a": {
          "model_module": "@jupyter-widgets/controls",
          "model_name": "DescriptionStyleModel",
          "model_module_version": "1.5.0",
          "state": {
            "_model_module": "@jupyter-widgets/controls",
            "_model_module_version": "1.5.0",
            "_model_name": "DescriptionStyleModel",
            "_view_count": null,
            "_view_module": "@jupyter-widgets/base",
            "_view_module_version": "1.2.0",
            "_view_name": "StyleView",
            "description_width": ""
          }
        },
        "9a3d209f86e44d25a8cb81cbf268741c": {
          "model_module": "@jupyter-widgets/controls",
          "model_name": "HBoxModel",
          "model_module_version": "1.5.0",
          "state": {
            "_dom_classes": [],
            "_model_module": "@jupyter-widgets/controls",
            "_model_module_version": "1.5.0",
            "_model_name": "HBoxModel",
            "_view_count": null,
            "_view_module": "@jupyter-widgets/controls",
            "_view_module_version": "1.5.0",
            "_view_name": "HBoxView",
            "box_style": "",
            "children": [
              "IPY_MODEL_817d17e512c645b9bbc016ba25c57e34",
              "IPY_MODEL_c5f89fb61bb048daa32892c4c25cdd96",
              "IPY_MODEL_0b4d51212be048bc86b44f62bdac78a6"
            ],
            "layout": "IPY_MODEL_4c370b79d0bf4d4f93d44a1aad713789"
          }
        },
        "817d17e512c645b9bbc016ba25c57e34": {
          "model_module": "@jupyter-widgets/controls",
          "model_name": "HTMLModel",
          "model_module_version": "1.5.0",
          "state": {
            "_dom_classes": [],
            "_model_module": "@jupyter-widgets/controls",
            "_model_module_version": "1.5.0",
            "_model_name": "HTMLModel",
            "_view_count": null,
            "_view_module": "@jupyter-widgets/controls",
            "_view_module_version": "1.5.0",
            "_view_name": "HTMLView",
            "description": "",
            "description_tooltip": null,
            "layout": "IPY_MODEL_4b520943f59b4068bf1913adcccf41db",
            "placeholder": "​",
            "style": "IPY_MODEL_648834dd2cef43ce8824b64863adcbc6",
            "value": "Map: 100%"
          }
        },
        "c5f89fb61bb048daa32892c4c25cdd96": {
          "model_module": "@jupyter-widgets/controls",
          "model_name": "FloatProgressModel",
          "model_module_version": "1.5.0",
          "state": {
            "_dom_classes": [],
            "_model_module": "@jupyter-widgets/controls",
            "_model_module_version": "1.5.0",
            "_model_name": "FloatProgressModel",
            "_view_count": null,
            "_view_module": "@jupyter-widgets/controls",
            "_view_module_version": "1.5.0",
            "_view_name": "ProgressView",
            "bar_style": "success",
            "description": "",
            "description_tooltip": null,
            "layout": "IPY_MODEL_84be9fbd9cc24374b85ee11757cbada0",
            "max": 309,
            "min": 0,
            "orientation": "horizontal",
            "style": "IPY_MODEL_3e5e092c1cb24867901b740de3e11c94",
            "value": 309
          }
        },
        "0b4d51212be048bc86b44f62bdac78a6": {
          "model_module": "@jupyter-widgets/controls",
          "model_name": "HTMLModel",
          "model_module_version": "1.5.0",
          "state": {
            "_dom_classes": [],
            "_model_module": "@jupyter-widgets/controls",
            "_model_module_version": "1.5.0",
            "_model_name": "HTMLModel",
            "_view_count": null,
            "_view_module": "@jupyter-widgets/controls",
            "_view_module_version": "1.5.0",
            "_view_name": "HTMLView",
            "description": "",
            "description_tooltip": null,
            "layout": "IPY_MODEL_e5f79fab36ae4947a69a8cf6ae476e41",
            "placeholder": "​",
            "style": "IPY_MODEL_8612c1ad1d944288a2a7a58b332cfcd3",
            "value": " 309/309 [00:01&lt;00:00, 312.50 examples/s]"
          }
        },
        "4c370b79d0bf4d4f93d44a1aad713789": {
          "model_module": "@jupyter-widgets/base",
          "model_name": "LayoutModel",
          "model_module_version": "1.2.0",
          "state": {
            "_model_module": "@jupyter-widgets/base",
            "_model_module_version": "1.2.0",
            "_model_name": "LayoutModel",
            "_view_count": null,
            "_view_module": "@jupyter-widgets/base",
            "_view_module_version": "1.2.0",
            "_view_name": "LayoutView",
            "align_content": null,
            "align_items": null,
            "align_self": null,
            "border": null,
            "bottom": null,
            "display": null,
            "flex": null,
            "flex_flow": null,
            "grid_area": null,
            "grid_auto_columns": null,
            "grid_auto_flow": null,
            "grid_auto_rows": null,
            "grid_column": null,
            "grid_gap": null,
            "grid_row": null,
            "grid_template_areas": null,
            "grid_template_columns": null,
            "grid_template_rows": null,
            "height": null,
            "justify_content": null,
            "justify_items": null,
            "left": null,
            "margin": null,
            "max_height": null,
            "max_width": null,
            "min_height": null,
            "min_width": null,
            "object_fit": null,
            "object_position": null,
            "order": null,
            "overflow": null,
            "overflow_x": null,
            "overflow_y": null,
            "padding": null,
            "right": null,
            "top": null,
            "visibility": null,
            "width": null
          }
        },
        "4b520943f59b4068bf1913adcccf41db": {
          "model_module": "@jupyter-widgets/base",
          "model_name": "LayoutModel",
          "model_module_version": "1.2.0",
          "state": {
            "_model_module": "@jupyter-widgets/base",
            "_model_module_version": "1.2.0",
            "_model_name": "LayoutModel",
            "_view_count": null,
            "_view_module": "@jupyter-widgets/base",
            "_view_module_version": "1.2.0",
            "_view_name": "LayoutView",
            "align_content": null,
            "align_items": null,
            "align_self": null,
            "border": null,
            "bottom": null,
            "display": null,
            "flex": null,
            "flex_flow": null,
            "grid_area": null,
            "grid_auto_columns": null,
            "grid_auto_flow": null,
            "grid_auto_rows": null,
            "grid_column": null,
            "grid_gap": null,
            "grid_row": null,
            "grid_template_areas": null,
            "grid_template_columns": null,
            "grid_template_rows": null,
            "height": null,
            "justify_content": null,
            "justify_items": null,
            "left": null,
            "margin": null,
            "max_height": null,
            "max_width": null,
            "min_height": null,
            "min_width": null,
            "object_fit": null,
            "object_position": null,
            "order": null,
            "overflow": null,
            "overflow_x": null,
            "overflow_y": null,
            "padding": null,
            "right": null,
            "top": null,
            "visibility": null,
            "width": null
          }
        },
        "648834dd2cef43ce8824b64863adcbc6": {
          "model_module": "@jupyter-widgets/controls",
          "model_name": "DescriptionStyleModel",
          "model_module_version": "1.5.0",
          "state": {
            "_model_module": "@jupyter-widgets/controls",
            "_model_module_version": "1.5.0",
            "_model_name": "DescriptionStyleModel",
            "_view_count": null,
            "_view_module": "@jupyter-widgets/base",
            "_view_module_version": "1.2.0",
            "_view_name": "StyleView",
            "description_width": ""
          }
        },
        "84be9fbd9cc24374b85ee11757cbada0": {
          "model_module": "@jupyter-widgets/base",
          "model_name": "LayoutModel",
          "model_module_version": "1.2.0",
          "state": {
            "_model_module": "@jupyter-widgets/base",
            "_model_module_version": "1.2.0",
            "_model_name": "LayoutModel",
            "_view_count": null,
            "_view_module": "@jupyter-widgets/base",
            "_view_module_version": "1.2.0",
            "_view_name": "LayoutView",
            "align_content": null,
            "align_items": null,
            "align_self": null,
            "border": null,
            "bottom": null,
            "display": null,
            "flex": null,
            "flex_flow": null,
            "grid_area": null,
            "grid_auto_columns": null,
            "grid_auto_flow": null,
            "grid_auto_rows": null,
            "grid_column": null,
            "grid_gap": null,
            "grid_row": null,
            "grid_template_areas": null,
            "grid_template_columns": null,
            "grid_template_rows": null,
            "height": null,
            "justify_content": null,
            "justify_items": null,
            "left": null,
            "margin": null,
            "max_height": null,
            "max_width": null,
            "min_height": null,
            "min_width": null,
            "object_fit": null,
            "object_position": null,
            "order": null,
            "overflow": null,
            "overflow_x": null,
            "overflow_y": null,
            "padding": null,
            "right": null,
            "top": null,
            "visibility": null,
            "width": null
          }
        },
        "3e5e092c1cb24867901b740de3e11c94": {
          "model_module": "@jupyter-widgets/controls",
          "model_name": "ProgressStyleModel",
          "model_module_version": "1.5.0",
          "state": {
            "_model_module": "@jupyter-widgets/controls",
            "_model_module_version": "1.5.0",
            "_model_name": "ProgressStyleModel",
            "_view_count": null,
            "_view_module": "@jupyter-widgets/base",
            "_view_module_version": "1.2.0",
            "_view_name": "StyleView",
            "bar_color": null,
            "description_width": ""
          }
        },
        "e5f79fab36ae4947a69a8cf6ae476e41": {
          "model_module": "@jupyter-widgets/base",
          "model_name": "LayoutModel",
          "model_module_version": "1.2.0",
          "state": {
            "_model_module": "@jupyter-widgets/base",
            "_model_module_version": "1.2.0",
            "_model_name": "LayoutModel",
            "_view_count": null,
            "_view_module": "@jupyter-widgets/base",
            "_view_module_version": "1.2.0",
            "_view_name": "LayoutView",
            "align_content": null,
            "align_items": null,
            "align_self": null,
            "border": null,
            "bottom": null,
            "display": null,
            "flex": null,
            "flex_flow": null,
            "grid_area": null,
            "grid_auto_columns": null,
            "grid_auto_flow": null,
            "grid_auto_rows": null,
            "grid_column": null,
            "grid_gap": null,
            "grid_row": null,
            "grid_template_areas": null,
            "grid_template_columns": null,
            "grid_template_rows": null,
            "height": null,
            "justify_content": null,
            "justify_items": null,
            "left": null,
            "margin": null,
            "max_height": null,
            "max_width": null,
            "min_height": null,
            "min_width": null,
            "object_fit": null,
            "object_position": null,
            "order": null,
            "overflow": null,
            "overflow_x": null,
            "overflow_y": null,
            "padding": null,
            "right": null,
            "top": null,
            "visibility": null,
            "width": null
          }
        },
        "8612c1ad1d944288a2a7a58b332cfcd3": {
          "model_module": "@jupyter-widgets/controls",
          "model_name": "DescriptionStyleModel",
          "model_module_version": "1.5.0",
          "state": {
            "_model_module": "@jupyter-widgets/controls",
            "_model_module_version": "1.5.0",
            "_model_name": "DescriptionStyleModel",
            "_view_count": null,
            "_view_module": "@jupyter-widgets/base",
            "_view_module_version": "1.2.0",
            "_view_name": "StyleView",
            "description_width": ""
          }
        }
      }
    },
    "accelerator": "GPU"
  },
  "nbformat": 4,
  "nbformat_minor": 5
}